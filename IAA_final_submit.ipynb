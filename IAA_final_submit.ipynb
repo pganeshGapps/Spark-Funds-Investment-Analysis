{
 "cells": [
  {
   "cell_type": "markdown",
   "metadata": {},
   "source": [
    "## Abstract Problem Statement / Objective\n",
    "#### \" Spark Funds wants to invest where most investors are investing\"\n",
    "###### Data Source : crunchbase.com"
   ]
  },
  {
   "cell_type": "code",
   "execution_count": 1,
   "metadata": {},
   "outputs": [],
   "source": [
    "import pandas as pd\n",
    "import numpy as np\n",
    "\n",
    "import matplotlib.pyplot as plt\n",
    "%matplotlib inline\n",
    "import seaborn as sns\n",
    "plt.style.use('ggplot')\n",
    "\n",
    "from collections import Counter"
   ]
  },
  {
   "cell_type": "code",
   "execution_count": 2,
   "metadata": {},
   "outputs": [],
   "source": [
    "companies = pd.read_csv(\"data/companies.csv\",encoding='palmos')\n",
    "# companies.head(10)"
   ]
  },
  {
   "cell_type": "code",
   "execution_count": 3,
   "metadata": {},
   "outputs": [],
   "source": [
    "rounds2 = pd.read_csv(\"data/rounds2.csv\",encoding='palmos')\n",
    "# rounds2.head(10)"
   ]
  },
  {
   "cell_type": "markdown",
   "metadata": {},
   "source": [
    "#### First clean common column which we will use for joining"
   ]
  },
  {
   "cell_type": "markdown",
   "metadata": {},
   "source": [
    "#### Data Swimming & Cleaning : I"
   ]
  },
  {
   "cell_type": "code",
   "execution_count": 4,
   "metadata": {},
   "outputs": [
    {
     "data": {
      "text/plain": [
       "'/organization/0xdata'"
      ]
     },
     "execution_count": 4,
     "metadata": {},
     "output_type": "execute_result"
    }
   ],
   "source": [
    "#Data Cleaning\n",
    "def normalize_text(s:str)-> str:\n",
    "    '''\n",
    "    Function to standardize Unique Ids of Companies/Rounds\n",
    "    returns normalized string\n",
    "    '''\n",
    "    s = s.strip().lower()\n",
    "    return s\n",
    "\n",
    "#test function\n",
    "normalize_text('/Organization/0Xdata')"
   ]
  },
  {
   "cell_type": "code",
   "execution_count": 5,
   "metadata": {},
   "outputs": [],
   "source": [
    "#Apply cleaning on common column\n",
    "companies['permalink'] = companies.permalink.apply(lambda x:normalize_text(x))\n",
    "rounds2['company_permalink'] = rounds2['company_permalink'].apply(lambda x:normalize_text(x))"
   ]
  },
  {
   "cell_type": "code",
   "execution_count": null,
   "metadata": {},
   "outputs": [],
   "source": []
  },
  {
   "cell_type": "markdown",
   "metadata": {},
   "source": [
    "## Checkpoints : Part 1"
   ]
  },
  {
   "cell_type": "markdown",
   "metadata": {},
   "source": [
    "### Checkpoint 1 : Table 1.1"
   ]
  },
  {
   "cell_type": "code",
   "execution_count": 6,
   "metadata": {},
   "outputs": [
    {
     "data": {
      "text/plain": [
       "count                       114949\n",
       "unique                       66368\n",
       "top       /organization/solarflare\n",
       "freq                            19\n",
       "Name: company_permalink, dtype: object"
      ]
     },
     "execution_count": 6,
     "metadata": {},
     "output_type": "execute_result"
    }
   ],
   "source": [
    "#1 How many unique companies are present in rounds2?\n",
    "rounds2['company_permalink'].describe()#value_counts()"
   ]
  },
  {
   "cell_type": "code",
   "execution_count": 7,
   "metadata": {},
   "outputs": [
    {
     "data": {
      "text/plain": [
       "count                                                 66368\n",
       "unique                                                66368\n",
       "top       /organization/advanced-materials-technology-in...\n",
       "freq                                                      1\n",
       "Name: permalink, dtype: object"
      ]
     },
     "execution_count": 7,
     "metadata": {},
     "output_type": "execute_result"
    }
   ],
   "source": [
    "#2 How many unique companies are present in the companies file?\n",
    "companies['permalink'].describe()#value_counts()"
   ]
  },
  {
   "cell_type": "code",
   "execution_count": 8,
   "metadata": {},
   "outputs": [
    {
     "data": {
      "text/html": [
       "<div>\n",
       "<style scoped>\n",
       "    .dataframe tbody tr th:only-of-type {\n",
       "        vertical-align: middle;\n",
       "    }\n",
       "\n",
       "    .dataframe tbody tr th {\n",
       "        vertical-align: top;\n",
       "    }\n",
       "\n",
       "    .dataframe thead th {\n",
       "        text-align: right;\n",
       "    }\n",
       "</style>\n",
       "<table border=\"1\" class=\"dataframe\">\n",
       "  <thead>\n",
       "    <tr style=\"text-align: right;\">\n",
       "      <th></th>\n",
       "      <th>permalink</th>\n",
       "      <th>name</th>\n",
       "      <th>homepage_url</th>\n",
       "      <th>category_list</th>\n",
       "      <th>status</th>\n",
       "      <th>country_code</th>\n",
       "      <th>state_code</th>\n",
       "      <th>region</th>\n",
       "      <th>city</th>\n",
       "      <th>founded_at</th>\n",
       "    </tr>\n",
       "  </thead>\n",
       "  <tbody>\n",
       "    <tr>\n",
       "      <th>count</th>\n",
       "      <td>66368</td>\n",
       "      <td>66367</td>\n",
       "      <td>61310</td>\n",
       "      <td>63220</td>\n",
       "      <td>66368</td>\n",
       "      <td>59410</td>\n",
       "      <td>57821</td>\n",
       "      <td>58338</td>\n",
       "      <td>58340</td>\n",
       "      <td>51147</td>\n",
       "    </tr>\n",
       "    <tr>\n",
       "      <th>unique</th>\n",
       "      <td>66368</td>\n",
       "      <td>66099</td>\n",
       "      <td>61191</td>\n",
       "      <td>27296</td>\n",
       "      <td>4</td>\n",
       "      <td>137</td>\n",
       "      <td>311</td>\n",
       "      <td>1092</td>\n",
       "      <td>5111</td>\n",
       "      <td>3978</td>\n",
       "    </tr>\n",
       "    <tr>\n",
       "      <th>top</th>\n",
       "      <td>/organization/advanced-materials-technology-in...</td>\n",
       "      <td>Spire</td>\n",
       "      <td>http://www.askforoffer.com</td>\n",
       "      <td>Software</td>\n",
       "      <td>operating</td>\n",
       "      <td>USA</td>\n",
       "      <td>CA</td>\n",
       "      <td>SF Bay Area</td>\n",
       "      <td>San Francisco</td>\n",
       "      <td>01-01-2012</td>\n",
       "    </tr>\n",
       "    <tr>\n",
       "      <th>freq</th>\n",
       "      <td>1</td>\n",
       "      <td>4</td>\n",
       "      <td>5</td>\n",
       "      <td>3995</td>\n",
       "      <td>53034</td>\n",
       "      <td>37601</td>\n",
       "      <td>12900</td>\n",
       "      <td>8804</td>\n",
       "      <td>3526</td>\n",
       "      <td>2730</td>\n",
       "    </tr>\n",
       "  </tbody>\n",
       "</table>\n",
       "</div>"
      ],
      "text/plain": [
       "                                                permalink   name  \\\n",
       "count                                               66368  66367   \n",
       "unique                                              66368  66099   \n",
       "top     /organization/advanced-materials-technology-in...  Spire   \n",
       "freq                                                    1      4   \n",
       "\n",
       "                      homepage_url category_list     status country_code  \\\n",
       "count                        61310         63220      66368        59410   \n",
       "unique                       61191         27296          4          137   \n",
       "top     http://www.askforoffer.com      Software  operating          USA   \n",
       "freq                             5          3995      53034        37601   \n",
       "\n",
       "       state_code       region           city  founded_at  \n",
       "count       57821        58338          58340       51147  \n",
       "unique        311         1092           5111        3978  \n",
       "top            CA  SF Bay Area  San Francisco  01-01-2012  \n",
       "freq        12900         8804           3526        2730  "
      ]
     },
     "execution_count": 8,
     "metadata": {},
     "output_type": "execute_result"
    }
   ],
   "source": [
    "#3 In the companies data frame, which column can be used as the  unique key for each company? Write the name of the column.\n",
    "#Number of records == number of unique records ==> candidate for Primary key\n",
    "companies.describe()\n",
    "#Answer = permalink"
   ]
  },
  {
   "cell_type": "code",
   "execution_count": 9,
   "metadata": {},
   "outputs": [
    {
     "data": {
      "text/plain": [
       "[]"
      ]
     },
     "execution_count": 9,
     "metadata": {},
     "output_type": "execute_result"
    }
   ],
   "source": [
    "#4 Are there any companies in the rounds2 file which are not  present in companies ? Answer Y/N.\n",
    "companies_in_rounds2 = rounds2['company_permalink'].apply(lambda x:normalize_text(x)).values\n",
    "companies_in_companies = companies.permalink.apply(lambda x:normalize_text(x)).values\n",
    "\n",
    "list(set(companies_in_rounds2)-set(companies_in_companies))\n",
    "#Answer = N"
   ]
  },
  {
   "cell_type": "code",
   "execution_count": 10,
   "metadata": {},
   "outputs": [
    {
     "name": "stdout",
     "output_type": "stream",
     "text": [
      "['permalink', 'name', 'homepage_url', 'category_list', 'status', 'country_code', 'state_code', 'region', 'city', 'founded_at']\n",
      "['company_permalink', 'funding_round_permalink', 'funding_round_type', 'funding_round_code', 'funded_at', 'raised_amount_usd']\n"
     ]
    }
   ],
   "source": [
    "#5 Merge the two data frames so that all  variables (columns)  in the companies frame are added to the rounds2 data frame. \n",
    "#Name the merged frame master_frame. How many observations are present in master_frame ?\n",
    "print(list(companies.columns))\n",
    "print(list(rounds2.columns))"
   ]
  },
  {
   "cell_type": "code",
   "execution_count": 11,
   "metadata": {},
   "outputs": [],
   "source": [
    "master_frame = pd.merge(rounds2, companies, left_on='company_permalink',right_on='permalink', how='left')"
   ]
  },
  {
   "cell_type": "code",
   "execution_count": 12,
   "metadata": {},
   "outputs": [
    {
     "data": {
      "text/html": [
       "<div>\n",
       "<style scoped>\n",
       "    .dataframe tbody tr th:only-of-type {\n",
       "        vertical-align: middle;\n",
       "    }\n",
       "\n",
       "    .dataframe tbody tr th {\n",
       "        vertical-align: top;\n",
       "    }\n",
       "\n",
       "    .dataframe thead th {\n",
       "        text-align: right;\n",
       "    }\n",
       "</style>\n",
       "<table border=\"1\" class=\"dataframe\">\n",
       "  <thead>\n",
       "    <tr style=\"text-align: right;\">\n",
       "      <th></th>\n",
       "      <th>company_permalink</th>\n",
       "      <th>funding_round_permalink</th>\n",
       "      <th>funding_round_type</th>\n",
       "      <th>funding_round_code</th>\n",
       "      <th>funded_at</th>\n",
       "      <th>raised_amount_usd</th>\n",
       "      <th>permalink</th>\n",
       "      <th>name</th>\n",
       "      <th>homepage_url</th>\n",
       "      <th>category_list</th>\n",
       "      <th>status</th>\n",
       "      <th>country_code</th>\n",
       "      <th>state_code</th>\n",
       "      <th>region</th>\n",
       "      <th>city</th>\n",
       "      <th>founded_at</th>\n",
       "    </tr>\n",
       "  </thead>\n",
       "  <tbody>\n",
       "    <tr>\n",
       "      <th>0</th>\n",
       "      <td>/organization/-fame</td>\n",
       "      <td>/funding-round/9a01d05418af9f794eebff7ace91f638</td>\n",
       "      <td>venture</td>\n",
       "      <td>B</td>\n",
       "      <td>05-01-2015</td>\n",
       "      <td>10000000.0</td>\n",
       "      <td>/organization/-fame</td>\n",
       "      <td>#fame</td>\n",
       "      <td>http://livfame.com</td>\n",
       "      <td>Media</td>\n",
       "      <td>operating</td>\n",
       "      <td>IND</td>\n",
       "      <td>16</td>\n",
       "      <td>Mumbai</td>\n",
       "      <td>Mumbai</td>\n",
       "      <td>NaN</td>\n",
       "    </tr>\n",
       "    <tr>\n",
       "      <th>1</th>\n",
       "      <td>/organization/-qounter</td>\n",
       "      <td>/funding-round/22dacff496eb7acb2b901dec1dfe5633</td>\n",
       "      <td>venture</td>\n",
       "      <td>A</td>\n",
       "      <td>14-10-2014</td>\n",
       "      <td>NaN</td>\n",
       "      <td>/organization/-qounter</td>\n",
       "      <td>:Qounter</td>\n",
       "      <td>http://www.qounter.com</td>\n",
       "      <td>Application Platforms|Real Time|Social Network...</td>\n",
       "      <td>operating</td>\n",
       "      <td>USA</td>\n",
       "      <td>DE</td>\n",
       "      <td>DE - Other</td>\n",
       "      <td>Delaware City</td>\n",
       "      <td>04-09-2014</td>\n",
       "    </tr>\n",
       "  </tbody>\n",
       "</table>\n",
       "</div>"
      ],
      "text/plain": [
       "        company_permalink                          funding_round_permalink  \\\n",
       "0     /organization/-fame  /funding-round/9a01d05418af9f794eebff7ace91f638   \n",
       "1  /organization/-qounter  /funding-round/22dacff496eb7acb2b901dec1dfe5633   \n",
       "\n",
       "  funding_round_type funding_round_code   funded_at  raised_amount_usd  \\\n",
       "0            venture                  B  05-01-2015         10000000.0   \n",
       "1            venture                  A  14-10-2014                NaN   \n",
       "\n",
       "                permalink      name            homepage_url  \\\n",
       "0     /organization/-fame     #fame      http://livfame.com   \n",
       "1  /organization/-qounter  :Qounter  http://www.qounter.com   \n",
       "\n",
       "                                       category_list     status country_code  \\\n",
       "0                                              Media  operating          IND   \n",
       "1  Application Platforms|Real Time|Social Network...  operating          USA   \n",
       "\n",
       "  state_code      region           city  founded_at  \n",
       "0         16      Mumbai         Mumbai         NaN  \n",
       "1         DE  DE - Other  Delaware City  04-09-2014  "
      ]
     },
     "execution_count": 12,
     "metadata": {},
     "output_type": "execute_result"
    }
   ],
   "source": [
    "master_frame.head(2)"
   ]
  },
  {
   "cell_type": "code",
   "execution_count": 13,
   "metadata": {},
   "outputs": [
    {
     "data": {
      "text/plain": [
       "((114949, 6), (66368, 10), (114949, 16))"
      ]
     },
     "execution_count": 13,
     "metadata": {},
     "output_type": "execute_result"
    }
   ],
   "source": [
    "rounds2.shape,companies.shape,master_frame.shape"
   ]
  },
  {
   "cell_type": "code",
   "execution_count": 14,
   "metadata": {},
   "outputs": [],
   "source": [
    "# master_frame[master_frame['company_permalink']==master_frame['permalink']].shape"
   ]
  },
  {
   "cell_type": "code",
   "execution_count": null,
   "metadata": {},
   "outputs": [],
   "source": []
  },
  {
   "cell_type": "markdown",
   "metadata": {},
   "source": [
    "### Checkpoint 2 : Table 2.1"
   ]
  },
  {
   "cell_type": "markdown",
   "metadata": {},
   "source": [
    "## Data Swimming & Cleaning : II"
   ]
  },
  {
   "cell_type": "code",
   "execution_count": 15,
   "metadata": {},
   "outputs": [
    {
     "data": {
      "text/plain": [
       "company_permalink           0.000000\n",
       "funding_round_permalink     0.000000\n",
       "funding_round_type          0.000000\n",
       "raised_amount_usd          17.390321\n",
       "name                        0.000870\n",
       "category_list               2.966533\n",
       "country_code                7.549435\n",
       "status                      0.000000\n",
       "dtype: float64"
      ]
     },
     "execution_count": 15,
     "metadata": {},
     "output_type": "execute_result"
    }
   ],
   "source": [
    "#check NA percentage per column\n",
    "columns_of_interest = ['company_permalink','funding_round_permalink','funding_round_type','raised_amount_usd','name','category_list','country_code','status']\n",
    "100*master_frame[columns_of_interest].isna().sum()/master_frame.shape[0]"
   ]
  },
  {
   "cell_type": "code",
   "execution_count": 16,
   "metadata": {},
   "outputs": [],
   "source": [
    "#Drop columns which are off 'no interest/use' here in our problem\n",
    "master_frame = master_frame[columns_of_interest]"
   ]
  },
  {
   "cell_type": "markdown",
   "metadata": {},
   "source": [
    "#### As percentage of NA for 'raised_amount_usd' is >10%, we will drop  rows with 'raised_amount_usd'==NA"
   ]
  },
  {
   "cell_type": "code",
   "execution_count": 17,
   "metadata": {},
   "outputs": [
    {
     "name": "stdout",
     "output_type": "stream",
     "text": [
      "(114949, 8)\n",
      "(94959, 8)\n"
     ]
    }
   ],
   "source": [
    "print(master_frame.shape)\n",
    "master_frame = master_frame[~(master_frame['raised_amount_usd'].isna())]\n",
    "print(master_frame.shape)"
   ]
  },
  {
   "cell_type": "code",
   "execution_count": 18,
   "metadata": {},
   "outputs": [
    {
     "data": {
      "text/plain": [
       "company_permalink          0.000000\n",
       "funding_round_permalink    0.000000\n",
       "funding_round_type         0.000000\n",
       "raised_amount_usd          0.000000\n",
       "name                       0.001053\n",
       "category_list              1.099422\n",
       "country_code               6.161607\n",
       "status                     0.000000\n",
       "dtype: float64"
      ]
     },
     "execution_count": 18,
     "metadata": {},
     "output_type": "execute_result"
    }
   ],
   "source": [
    "100*master_frame[columns_of_interest].isna().sum()/master_frame.shape[0]"
   ]
  },
  {
   "cell_type": "markdown",
   "metadata": {},
   "source": [
    "#### As {'category_list','country_code'} are categorical variables, we may think of replacing them by most frequent value. But doing so won't e sensible, as it would result into wrong assignment of country_code/category. So, again we are going to drop them.\n",
    "\n",
    "#### Same is true for 'name' column. "
   ]
  },
  {
   "cell_type": "code",
   "execution_count": 19,
   "metadata": {},
   "outputs": [
    {
     "name": "stdout",
     "output_type": "stream",
     "text": [
      "company_permalink             0\n",
      "funding_round_permalink       0\n",
      "funding_round_type            0\n",
      "raised_amount_usd             0\n",
      "name                          1\n",
      "category_list              1044\n",
      "country_code               5851\n",
      "status                        0\n",
      "dtype: int64\n",
      "company_permalink          0\n",
      "funding_round_permalink    0\n",
      "funding_round_type         0\n",
      "raised_amount_usd          0\n",
      "name                       0\n",
      "category_list              0\n",
      "country_code               0\n",
      "status                     0\n",
      "dtype: int64\n"
     ]
    }
   ],
   "source": [
    "print(master_frame.isna().sum())\n",
    "master_frame = master_frame.dropna()\n",
    "print(master_frame.isna().sum())"
   ]
  },
  {
   "cell_type": "code",
   "execution_count": 20,
   "metadata": {},
   "outputs": [
    {
     "name": "stdout",
     "output_type": "stream",
     "text": [
      "(88528, 8)\n"
     ]
    }
   ],
   "source": [
    "print(master_frame.shape)"
   ]
  },
  {
   "cell_type": "code",
   "execution_count": 21,
   "metadata": {},
   "outputs": [
    {
     "data": {
      "text/plain": [
       "26421"
      ]
     },
     "execution_count": 21,
     "metadata": {},
     "output_type": "execute_result"
    }
   ],
   "source": [
    "114949-88528"
   ]
  },
  {
   "cell_type": "markdown",
   "metadata": {},
   "source": [
    "#### Let's look for data types"
   ]
  },
  {
   "cell_type": "code",
   "execution_count": 22,
   "metadata": {},
   "outputs": [
    {
     "name": "stdout",
     "output_type": "stream",
     "text": [
      "<class 'pandas.core.frame.DataFrame'>\n",
      "Int64Index: 88528 entries, 0 to 114947\n",
      "Data columns (total 8 columns):\n",
      "company_permalink          88528 non-null object\n",
      "funding_round_permalink    88528 non-null object\n",
      "funding_round_type         88528 non-null object\n",
      "raised_amount_usd          88528 non-null float64\n",
      "name                       88528 non-null object\n",
      "category_list              88528 non-null object\n",
      "country_code               88528 non-null object\n",
      "status                     88528 non-null object\n",
      "dtypes: float64(1), object(7)\n",
      "memory usage: 6.1+ MB\n"
     ]
    }
   ],
   "source": [
    "master_frame.info()"
   ]
  },
  {
   "cell_type": "markdown",
   "metadata": {},
   "source": [
    "#### We can see that, 'raised_amount_type' is of float type & rest are having expected data types. Now lets jump into the checkpoint questions ..."
   ]
  },
  {
   "cell_type": "code",
   "execution_count": 23,
   "metadata": {
    "scrolled": true
   },
   "outputs": [
    {
     "data": {
      "text/plain": [
       "venture                  47809\n",
       "seed                     21094\n",
       "debt_financing            6506\n",
       "angel                     4400\n",
       "grant                     1939\n",
       "private_equity            1820\n",
       "undisclosed               1345\n",
       "convertible_note          1320\n",
       "equity_crowdfunding       1128\n",
       "post_ipo_equity            598\n",
       "product_crowdfunding       330\n",
       "post_ipo_debt              151\n",
       "non_equity_assistance       60\n",
       "secondary_market            28\n",
       "Name: funding_round_type, dtype: int64"
      ]
     },
     "execution_count": 23,
     "metadata": {},
     "output_type": "execute_result"
    }
   ],
   "source": [
    "master_frame['funding_round_type'].value_counts()"
   ]
  },
  {
   "cell_type": "code",
   "execution_count": 24,
   "metadata": {},
   "outputs": [
    {
     "name": "stdout",
     "output_type": "stream",
     "text": [
      "venture | 11724222.690204773 | 11.724222690204773\n",
      "angel | 971573.8911363636 | 0.9715738911363636\n",
      "seed | 747827.9478524699 | 0.7478279478524699\n",
      "private_equity | 73938486.27527472 | 73.93848627527473\n"
     ]
    }
   ],
   "source": [
    "#1 Average funding amount of funding_type in {'venture','angel','seed','private_equity'}\n",
    "for funding_type in ['venture','angel','seed','private_equity']:\n",
    "    #without dropping NA\n",
    "    avg = master_frame[master_frame['funding_round_type']==funding_type]['raised_amount_usd'].describe()['mean']\n",
    "    print(funding_type,\"|\",avg,\"|\",avg/(1000000))"
   ]
  },
  {
   "cell_type": "code",
   "execution_count": 25,
   "metadata": {},
   "outputs": [],
   "source": [
    "#checking medians vs mean of all"
   ]
  },
  {
   "cell_type": "code",
   "execution_count": 26,
   "metadata": {},
   "outputs": [
    {
     "name": "stdout",
     "output_type": "stream",
     "text": [
      "Funding_type|Median|Mean\n",
      "venture | 5.0 | 11.724222690204773\n",
      "angel | 0.414906 | 0.9715738911363636\n",
      "seed | 0.3 | 0.7478279478524699\n",
      "private_equity | 20.0 | 73.93848627527473\n",
      "\n",
      "(Remark : Numbers are in millions USD)\n"
     ]
    }
   ],
   "source": [
    "#Numbers are in millions USD\n",
    "print(\"Funding_type|Median|Mean\")\n",
    "for funding_type in ['venture','angel','seed','private_equity']:\n",
    "    t = master_frame[master_frame['funding_round_type']==funding_type]['raised_amount_usd']\n",
    "    print(funding_type,\"|\",t.median()/(1000000),\"|\",t.mean()/(1000000))\n",
    "    \n",
    "print(\"\\n(Remark : Numbers are in millions USD)\")"
   ]
  },
  {
   "cell_type": "markdown",
   "metadata": {},
   "source": [
    "##### If we consider median amount of each funding_type, only 'venture' satisfies 5 to 15 mn USD condition.(Even if we consider mean, then also 'venture' will be the only choice. "
   ]
  },
  {
   "cell_type": "markdown",
   "metadata": {},
   "source": [
    "## Checkpoints - Part 2"
   ]
  },
  {
   "cell_type": "markdown",
   "metadata": {},
   "source": [
    "### Checkpoint 3 : Table 3.1"
   ]
  },
  {
   "cell_type": "code",
   "execution_count": 27,
   "metadata": {},
   "outputs": [
    {
     "data": {
      "text/html": [
       "<div>\n",
       "<style scoped>\n",
       "    .dataframe tbody tr th:only-of-type {\n",
       "        vertical-align: middle;\n",
       "    }\n",
       "\n",
       "    .dataframe tbody tr th {\n",
       "        vertical-align: top;\n",
       "    }\n",
       "\n",
       "    .dataframe thead th {\n",
       "        text-align: right;\n",
       "    }\n",
       "</style>\n",
       "<table border=\"1\" class=\"dataframe\">\n",
       "  <thead>\n",
       "    <tr style=\"text-align: right;\">\n",
       "      <th></th>\n",
       "      <th>company_permalink</th>\n",
       "      <th>funding_round_permalink</th>\n",
       "      <th>funding_round_type</th>\n",
       "      <th>raised_amount_usd</th>\n",
       "      <th>name</th>\n",
       "      <th>category_list</th>\n",
       "      <th>country_code</th>\n",
       "      <th>status</th>\n",
       "    </tr>\n",
       "  </thead>\n",
       "  <tbody>\n",
       "    <tr>\n",
       "      <th>0</th>\n",
       "      <td>/organization/-fame</td>\n",
       "      <td>/funding-round/9a01d05418af9f794eebff7ace91f638</td>\n",
       "      <td>venture</td>\n",
       "      <td>10000000.0</td>\n",
       "      <td>#fame</td>\n",
       "      <td>Media</td>\n",
       "      <td>IND</td>\n",
       "      <td>operating</td>\n",
       "    </tr>\n",
       "    <tr>\n",
       "      <th>2</th>\n",
       "      <td>/organization/-qounter</td>\n",
       "      <td>/funding-round/b44fbb94153f6cdef13083530bb48030</td>\n",
       "      <td>seed</td>\n",
       "      <td>700000.0</td>\n",
       "      <td>:Qounter</td>\n",
       "      <td>Application Platforms|Real Time|Social Network...</td>\n",
       "      <td>USA</td>\n",
       "      <td>operating</td>\n",
       "    </tr>\n",
       "    <tr>\n",
       "      <th>4</th>\n",
       "      <td>/organization/0-6-com</td>\n",
       "      <td>/funding-round/5727accaeaa57461bd22a9bdd945382d</td>\n",
       "      <td>venture</td>\n",
       "      <td>2000000.0</td>\n",
       "      <td>0-6.com</td>\n",
       "      <td>Curated Web</td>\n",
       "      <td>CHN</td>\n",
       "      <td>operating</td>\n",
       "    </tr>\n",
       "    <tr>\n",
       "      <th>6</th>\n",
       "      <td>/organization/01games-technology</td>\n",
       "      <td>/funding-round/7d53696f2b4f607a2f2a8cbb83d01839</td>\n",
       "      <td>undisclosed</td>\n",
       "      <td>41250.0</td>\n",
       "      <td>01Games Technology</td>\n",
       "      <td>Games</td>\n",
       "      <td>HKG</td>\n",
       "      <td>operating</td>\n",
       "    </tr>\n",
       "    <tr>\n",
       "      <th>7</th>\n",
       "      <td>/organization/0ndine-biomedical-inc</td>\n",
       "      <td>/funding-round/2b9d3ac293d5cdccbecff5c8cb0f327d</td>\n",
       "      <td>seed</td>\n",
       "      <td>43360.0</td>\n",
       "      <td>Ondine Biomedical Inc.</td>\n",
       "      <td>Biotechnology</td>\n",
       "      <td>CAN</td>\n",
       "      <td>operating</td>\n",
       "    </tr>\n",
       "  </tbody>\n",
       "</table>\n",
       "</div>"
      ],
      "text/plain": [
       "                     company_permalink  \\\n",
       "0                  /organization/-fame   \n",
       "2               /organization/-qounter   \n",
       "4                /organization/0-6-com   \n",
       "6     /organization/01games-technology   \n",
       "7  /organization/0ndine-biomedical-inc   \n",
       "\n",
       "                           funding_round_permalink funding_round_type  \\\n",
       "0  /funding-round/9a01d05418af9f794eebff7ace91f638            venture   \n",
       "2  /funding-round/b44fbb94153f6cdef13083530bb48030               seed   \n",
       "4  /funding-round/5727accaeaa57461bd22a9bdd945382d            venture   \n",
       "6  /funding-round/7d53696f2b4f607a2f2a8cbb83d01839        undisclosed   \n",
       "7  /funding-round/2b9d3ac293d5cdccbecff5c8cb0f327d               seed   \n",
       "\n",
       "   raised_amount_usd                    name  \\\n",
       "0         10000000.0                   #fame   \n",
       "2           700000.0                :Qounter   \n",
       "4          2000000.0                 0-6.com   \n",
       "6            41250.0      01Games Technology   \n",
       "7            43360.0  Ondine Biomedical Inc.   \n",
       "\n",
       "                                       category_list country_code     status  \n",
       "0                                              Media          IND  operating  \n",
       "2  Application Platforms|Real Time|Social Network...          USA  operating  \n",
       "4                                        Curated Web          CHN  operating  \n",
       "6                                              Games          HKG  operating  \n",
       "7                                      Biotechnology          CAN  operating  "
      ]
     },
     "execution_count": 27,
     "metadata": {},
     "output_type": "execute_result"
    }
   ],
   "source": [
    "master_frame.head()"
   ]
  },
  {
   "cell_type": "code",
   "execution_count": 28,
   "metadata": {},
   "outputs": [],
   "source": [
    "country_wise_data = master_frame[master_frame['funding_round_type']=='venture'].groupby(by='country_code')\n",
    "aggregate = country_wise_data.sum()['raised_amount_usd'].sort_values(ascending=False)[:9]\n",
    "data = np.array(list(zip(aggregate.index.values,aggregate.values)))\n",
    "top9 = pd.DataFrame(data,columns=['country_code','total_raised_amount'])"
   ]
  },
  {
   "cell_type": "code",
   "execution_count": 29,
   "metadata": {},
   "outputs": [
    {
     "data": {
      "text/html": [
       "<div>\n",
       "<style scoped>\n",
       "    .dataframe tbody tr th:only-of-type {\n",
       "        vertical-align: middle;\n",
       "    }\n",
       "\n",
       "    .dataframe tbody tr th {\n",
       "        vertical-align: top;\n",
       "    }\n",
       "\n",
       "    .dataframe thead th {\n",
       "        text-align: right;\n",
       "    }\n",
       "</style>\n",
       "<table border=\"1\" class=\"dataframe\">\n",
       "  <thead>\n",
       "    <tr style=\"text-align: right;\">\n",
       "      <th></th>\n",
       "      <th>country_code</th>\n",
       "      <th>total_raised_amount</th>\n",
       "    </tr>\n",
       "  </thead>\n",
       "  <tbody>\n",
       "    <tr>\n",
       "      <th>0</th>\n",
       "      <td>USA</td>\n",
       "      <td>420068029342.0</td>\n",
       "    </tr>\n",
       "    <tr>\n",
       "      <th>1</th>\n",
       "      <td>CHN</td>\n",
       "      <td>39338918773.0</td>\n",
       "    </tr>\n",
       "    <tr>\n",
       "      <th>2</th>\n",
       "      <td>GBR</td>\n",
       "      <td>20072813004.0</td>\n",
       "    </tr>\n",
       "    <tr>\n",
       "      <th>3</th>\n",
       "      <td>IND</td>\n",
       "      <td>14261508718.0</td>\n",
       "    </tr>\n",
       "    <tr>\n",
       "      <th>4</th>\n",
       "      <td>CAN</td>\n",
       "      <td>9482217668.0</td>\n",
       "    </tr>\n",
       "    <tr>\n",
       "      <th>5</th>\n",
       "      <td>FRA</td>\n",
       "      <td>7226851352.0</td>\n",
       "    </tr>\n",
       "    <tr>\n",
       "      <th>6</th>\n",
       "      <td>ISR</td>\n",
       "      <td>6854350477.0</td>\n",
       "    </tr>\n",
       "    <tr>\n",
       "      <th>7</th>\n",
       "      <td>DEU</td>\n",
       "      <td>6306921981.0</td>\n",
       "    </tr>\n",
       "    <tr>\n",
       "      <th>8</th>\n",
       "      <td>JPN</td>\n",
       "      <td>3167647127.0</td>\n",
       "    </tr>\n",
       "  </tbody>\n",
       "</table>\n",
       "</div>"
      ],
      "text/plain": [
       "  country_code total_raised_amount\n",
       "0          USA      420068029342.0\n",
       "1          CHN       39338918773.0\n",
       "2          GBR       20072813004.0\n",
       "3          IND       14261508718.0\n",
       "4          CAN        9482217668.0\n",
       "5          FRA        7226851352.0\n",
       "6          ISR        6854350477.0\n",
       "7          DEU        6306921981.0\n",
       "8          JPN        3167647127.0"
      ]
     },
     "execution_count": 29,
     "metadata": {},
     "output_type": "execute_result"
    }
   ],
   "source": [
    "top9"
   ]
  },
  {
   "cell_type": "code",
   "execution_count": 30,
   "metadata": {},
   "outputs": [
    {
     "data": {
      "text/html": [
       "<div>\n",
       "<style scoped>\n",
       "    .dataframe tbody tr th:only-of-type {\n",
       "        vertical-align: middle;\n",
       "    }\n",
       "\n",
       "    .dataframe tbody tr th {\n",
       "        vertical-align: top;\n",
       "    }\n",
       "\n",
       "    .dataframe thead th {\n",
       "        text-align: right;\n",
       "    }\n",
       "</style>\n",
       "<table border=\"1\" class=\"dataframe\">\n",
       "  <thead>\n",
       "    <tr style=\"text-align: right;\">\n",
       "      <th></th>\n",
       "      <th>country_code</th>\n",
       "      <th>total_raised_amount</th>\n",
       "      <th>is_english_speaking</th>\n",
       "    </tr>\n",
       "  </thead>\n",
       "  <tbody>\n",
       "    <tr>\n",
       "      <th>0</th>\n",
       "      <td>USA</td>\n",
       "      <td>420068029342.0</td>\n",
       "      <td>True</td>\n",
       "    </tr>\n",
       "    <tr>\n",
       "      <th>1</th>\n",
       "      <td>CHN</td>\n",
       "      <td>39338918773.0</td>\n",
       "      <td>False</td>\n",
       "    </tr>\n",
       "    <tr>\n",
       "      <th>2</th>\n",
       "      <td>GBR</td>\n",
       "      <td>20072813004.0</td>\n",
       "      <td>True</td>\n",
       "    </tr>\n",
       "    <tr>\n",
       "      <th>3</th>\n",
       "      <td>IND</td>\n",
       "      <td>14261508718.0</td>\n",
       "      <td>True</td>\n",
       "    </tr>\n",
       "    <tr>\n",
       "      <th>4</th>\n",
       "      <td>CAN</td>\n",
       "      <td>9482217668.0</td>\n",
       "      <td>True</td>\n",
       "    </tr>\n",
       "    <tr>\n",
       "      <th>5</th>\n",
       "      <td>FRA</td>\n",
       "      <td>7226851352.0</td>\n",
       "      <td>False</td>\n",
       "    </tr>\n",
       "    <tr>\n",
       "      <th>6</th>\n",
       "      <td>ISR</td>\n",
       "      <td>6854350477.0</td>\n",
       "      <td>True</td>\n",
       "    </tr>\n",
       "    <tr>\n",
       "      <th>7</th>\n",
       "      <td>DEU</td>\n",
       "      <td>6306921981.0</td>\n",
       "      <td>False</td>\n",
       "    </tr>\n",
       "    <tr>\n",
       "      <th>8</th>\n",
       "      <td>JPN</td>\n",
       "      <td>3167647127.0</td>\n",
       "      <td>False</td>\n",
       "    </tr>\n",
       "  </tbody>\n",
       "</table>\n",
       "</div>"
      ],
      "text/plain": [
       "  country_code total_raised_amount  is_english_speaking\n",
       "0          USA      420068029342.0                 True\n",
       "1          CHN       39338918773.0                False\n",
       "2          GBR       20072813004.0                 True\n",
       "3          IND       14261508718.0                 True\n",
       "4          CAN        9482217668.0                 True\n",
       "5          FRA        7226851352.0                False\n",
       "6          ISR        6854350477.0                 True\n",
       "7          DEU        6306921981.0                False\n",
       "8          JPN        3167647127.0                False"
      ]
     },
     "execution_count": 30,
     "metadata": {},
     "output_type": "execute_result"
    }
   ],
   "source": [
    "is_english_speaking = {'USA':True,'CHN':False,'GBR':True,'IND':True,'CAN':True,'FRA':False,'ISR':True,'DEU':False,'JPN':False}\n",
    "data = np.array(list(zip(aggregate.index.values,aggregate.values)))\n",
    "top9 = pd.DataFrame(data,columns=['country_code','total_raised_amount'])\n",
    "top9['is_english_speaking'] = top9['country_code'].apply(lambda x: is_english_speaking.get(x,'UNKNOWN_YET'))\n",
    "top9"
   ]
  },
  {
   "cell_type": "code",
   "execution_count": 31,
   "metadata": {},
   "outputs": [
    {
     "data": {
      "text/html": [
       "<div>\n",
       "<style scoped>\n",
       "    .dataframe tbody tr th:only-of-type {\n",
       "        vertical-align: middle;\n",
       "    }\n",
       "\n",
       "    .dataframe tbody tr th {\n",
       "        vertical-align: top;\n",
       "    }\n",
       "\n",
       "    .dataframe thead th {\n",
       "        text-align: right;\n",
       "    }\n",
       "</style>\n",
       "<table border=\"1\" class=\"dataframe\">\n",
       "  <thead>\n",
       "    <tr style=\"text-align: right;\">\n",
       "      <th></th>\n",
       "      <th>country_code</th>\n",
       "      <th>total_raised_amount</th>\n",
       "      <th>is_english_speaking</th>\n",
       "    </tr>\n",
       "  </thead>\n",
       "  <tbody>\n",
       "    <tr>\n",
       "      <th>0</th>\n",
       "      <td>USA</td>\n",
       "      <td>420068029342.0</td>\n",
       "      <td>True</td>\n",
       "    </tr>\n",
       "    <tr>\n",
       "      <th>2</th>\n",
       "      <td>GBR</td>\n",
       "      <td>20072813004.0</td>\n",
       "      <td>True</td>\n",
       "    </tr>\n",
       "    <tr>\n",
       "      <th>3</th>\n",
       "      <td>IND</td>\n",
       "      <td>14261508718.0</td>\n",
       "      <td>True</td>\n",
       "    </tr>\n",
       "    <tr>\n",
       "      <th>4</th>\n",
       "      <td>CAN</td>\n",
       "      <td>9482217668.0</td>\n",
       "      <td>True</td>\n",
       "    </tr>\n",
       "    <tr>\n",
       "      <th>6</th>\n",
       "      <td>ISR</td>\n",
       "      <td>6854350477.0</td>\n",
       "      <td>True</td>\n",
       "    </tr>\n",
       "  </tbody>\n",
       "</table>\n",
       "</div>"
      ],
      "text/plain": [
       "  country_code total_raised_amount  is_english_speaking\n",
       "0          USA      420068029342.0                 True\n",
       "2          GBR       20072813004.0                 True\n",
       "3          IND       14261508718.0                 True\n",
       "4          CAN        9482217668.0                 True\n",
       "6          ISR        6854350477.0                 True"
      ]
     },
     "execution_count": 31,
     "metadata": {},
     "output_type": "execute_result"
    }
   ],
   "source": [
    "top9[top9['is_english_speaking']==True]"
   ]
  },
  {
   "cell_type": "markdown",
   "metadata": {},
   "source": [
    "#### Top 3 required countries in order : {USA,GBR,IND}"
   ]
  },
  {
   "cell_type": "markdown",
   "metadata": {},
   "source": [
    "### Checkpoint 4: Sector Analysis 1"
   ]
  },
  {
   "cell_type": "code",
   "execution_count": 32,
   "metadata": {},
   "outputs": [
    {
     "data": {
      "text/plain": [
       "(38803, 8)"
      ]
     },
     "execution_count": 32,
     "metadata": {},
     "output_type": "execute_result"
    }
   ],
   "source": [
    "filtered_df = master_frame[(master_frame['country_code'].isin(['USA','GBR','IND'])) & (master_frame['funding_round_type']=='venture')]\n",
    "filtered_df.shape"
   ]
  },
  {
   "cell_type": "code",
   "execution_count": 33,
   "metadata": {},
   "outputs": [
    {
     "name": "stderr",
     "output_type": "stream",
     "text": [
      "C:\\Users\\gpatil1\\AppData\\Local\\Continuum\\anaconda3\\lib\\site-packages\\ipykernel_launcher.py:1: SettingWithCopyWarning: \n",
      "A value is trying to be set on a copy of a slice from a DataFrame.\n",
      "Try using .loc[row_indexer,col_indexer] = value instead\n",
      "\n",
      "See the caveats in the documentation: http://pandas.pydata.org/pandas-docs/stable/user_guide/indexing.html#returning-a-view-versus-a-copy\n",
      "  \"\"\"Entry point for launching an IPython kernel.\n"
     ]
    }
   ],
   "source": [
    "filtered_df['primary_sector'] = filtered_df['category_list'].apply(lambda x:str(x).strip().split('|')[0].lower())\n",
    "# filtered_df.head()"
   ]
  },
  {
   "cell_type": "code",
   "execution_count": 34,
   "metadata": {},
   "outputs": [
    {
     "data": {
      "text/plain": [
       "0"
      ]
     },
     "execution_count": 34,
     "metadata": {},
     "output_type": "execute_result"
    }
   ],
   "source": [
    "filtered_df['primary_sector'].isna().sum()"
   ]
  },
  {
   "cell_type": "code",
   "execution_count": 35,
   "metadata": {},
   "outputs": [
    {
     "data": {
      "text/plain": [
       "biotechnology          5875\n",
       "software               3345\n",
       "advertising            1847\n",
       "health care            1596\n",
       "enterprise software    1560\n",
       "                       ... \n",
       "online reservations       1\n",
       "cosmetic surgery          1\n",
       "synchronization           1\n",
       "social fundraising        1\n",
       "ebooks                    1\n",
       "Name: primary_sector, Length: 563, dtype: int64"
      ]
     },
     "execution_count": 35,
     "metadata": {},
     "output_type": "execute_result"
    }
   ],
   "source": [
    "filtered_df['primary_sector'].value_counts()"
   ]
  },
  {
   "cell_type": "code",
   "execution_count": 36,
   "metadata": {},
   "outputs": [
    {
     "data": {
      "text/html": [
       "<div>\n",
       "<style scoped>\n",
       "    .dataframe tbody tr th:only-of-type {\n",
       "        vertical-align: middle;\n",
       "    }\n",
       "\n",
       "    .dataframe tbody tr th {\n",
       "        vertical-align: top;\n",
       "    }\n",
       "\n",
       "    .dataframe thead th {\n",
       "        text-align: right;\n",
       "    }\n",
       "</style>\n",
       "<table border=\"1\" class=\"dataframe\">\n",
       "  <thead>\n",
       "    <tr style=\"text-align: right;\">\n",
       "      <th></th>\n",
       "      <th>category_list</th>\n",
       "      <th>Automotive &amp; Sports</th>\n",
       "      <th>Blanks</th>\n",
       "      <th>Cleantech / Semiconductors</th>\n",
       "      <th>Entertainment</th>\n",
       "      <th>Health</th>\n",
       "      <th>Manufacturing</th>\n",
       "      <th>News, Search and Messaging</th>\n",
       "      <th>Others</th>\n",
       "      <th>Social, Finance, Analytics, Advertising</th>\n",
       "    </tr>\n",
       "  </thead>\n",
       "  <tbody>\n",
       "    <tr>\n",
       "      <th>0</th>\n",
       "      <td>NaN</td>\n",
       "      <td>0</td>\n",
       "      <td>1</td>\n",
       "      <td>0</td>\n",
       "      <td>0</td>\n",
       "      <td>0</td>\n",
       "      <td>0</td>\n",
       "      <td>0</td>\n",
       "      <td>0</td>\n",
       "      <td>0</td>\n",
       "    </tr>\n",
       "  </tbody>\n",
       "</table>\n",
       "</div>"
      ],
      "text/plain": [
       "  category_list  Automotive & Sports  Blanks  Cleantech / Semiconductors  \\\n",
       "0           NaN                    0       1                           0   \n",
       "\n",
       "   Entertainment  Health  Manufacturing  News, Search and Messaging  Others  \\\n",
       "0              0       0              0                           0       0   \n",
       "\n",
       "   Social, Finance, Analytics, Advertising  \n",
       "0                                        0  "
      ]
     },
     "execution_count": 36,
     "metadata": {},
     "output_type": "execute_result"
    }
   ],
   "source": [
    "mapping_df = pd.read_csv('data/mapping.csv')\n",
    "mapping_df[mapping_df['category_list'].isna()]"
   ]
  },
  {
   "cell_type": "markdown",
   "metadata": {},
   "source": [
    "#### As there is only one row with NA value for 'category_list', we will drop that row."
   ]
  },
  {
   "cell_type": "markdown",
   "metadata": {},
   "source": [
    "### Data Cleaning & mapping_df preparation"
   ]
  },
  {
   "cell_type": "code",
   "execution_count": 37,
   "metadata": {},
   "outputs": [
    {
     "name": "stdout",
     "output_type": "stream",
     "text": [
      "Alter0tive Medicine|A0lytics|Big Data A0lytics|Business A0lytics|Can0bis|Career Ma0gement|Chi0 Internet|Cloud Ma0gement|Contact Ma0gement|Digital Rights Ma0gement|Digital Sig0ge|Document Ma0gement|Educatio0l Games|Energy Ma0gement|Event Ma0gement|Fi0nce|Fi0nce Technology|Fi0ncial Exchanges|Fi0ncial Services|Fleet Ma0gement|Gover0nce|Identity Ma0gement|Innovation Ma0gement|Intellectual Asset Ma0gement|Investment Ma0gement|IT Ma0gement|Jour0lism|Knowledge Ma0gement|Lead Ma0gement|Medical Professio0ls|Mobile A0lytics|0notechnology|0tural Language Processing|0tural Resources|0vigation|Perso0l Branding|Perso0l Data|Perso0l Fi0nce|Perso0l Health|Perso0lization|Predictive A0lytics|Professio0l Networking|Professio0l Services|Project Ma0gement|Promotio0l|Property Ma0gement|Risk Ma0gement|Social Media Ma0gement|Supply Chain Ma0gement|Task Ma0gement|Veteri0ry|Waste Ma0gement|"
     ]
    }
   ],
   "source": [
    "for cat in mapping_df['category_list'].values:\n",
    "    if '0' in str(cat) and '.0' not in str(cat):\n",
    "        print(cat, end=\"|\")"
   ]
  },
  {
   "cell_type": "markdown",
   "metadata": {},
   "source": [
    "#### from above observation, we will replace '0' with 'na' at proper places"
   ]
  },
  {
   "cell_type": "code",
   "execution_count": 38,
   "metadata": {},
   "outputs": [
    {
     "data": {
      "text/html": [
       "<div>\n",
       "<style scoped>\n",
       "    .dataframe tbody tr th:only-of-type {\n",
       "        vertical-align: middle;\n",
       "    }\n",
       "\n",
       "    .dataframe tbody tr th {\n",
       "        vertical-align: top;\n",
       "    }\n",
       "\n",
       "    .dataframe thead th {\n",
       "        text-align: right;\n",
       "    }\n",
       "</style>\n",
       "<table border=\"1\" class=\"dataframe\">\n",
       "  <thead>\n",
       "    <tr style=\"text-align: right;\">\n",
       "      <th></th>\n",
       "      <th>category_list</th>\n",
       "      <th>main_sector</th>\n",
       "    </tr>\n",
       "  </thead>\n",
       "  <tbody>\n",
       "    <tr>\n",
       "      <th>1</th>\n",
       "      <td>3d</td>\n",
       "      <td>Manufacturing</td>\n",
       "    </tr>\n",
       "    <tr>\n",
       "      <th>2</th>\n",
       "      <td>3d printing</td>\n",
       "      <td>Manufacturing</td>\n",
       "    </tr>\n",
       "    <tr>\n",
       "      <th>3</th>\n",
       "      <td>3d technology</td>\n",
       "      <td>Manufacturing</td>\n",
       "    </tr>\n",
       "    <tr>\n",
       "      <th>4</th>\n",
       "      <td>accounting</td>\n",
       "      <td>Social, Finance, Analytics, Advertising</td>\n",
       "    </tr>\n",
       "    <tr>\n",
       "      <th>5</th>\n",
       "      <td>active lifestyle</td>\n",
       "      <td>Health</td>\n",
       "    </tr>\n",
       "  </tbody>\n",
       "</table>\n",
       "</div>"
      ],
      "text/plain": [
       "      category_list                              main_sector\n",
       "1                3d                            Manufacturing\n",
       "2       3d printing                            Manufacturing\n",
       "3     3d technology                            Manufacturing\n",
       "4        accounting  Social, Finance, Analytics, Advertising\n",
       "5  active lifestyle                                   Health"
      ]
     },
     "execution_count": 38,
     "metadata": {},
     "output_type": "execute_result"
    }
   ],
   "source": [
    "mapping_df = pd.read_csv('data/mapping.csv')\n",
    "mapping_df = mapping_df.dropna()\n",
    "\n",
    "def clean_category_list(x):\n",
    "    x = str(x).strip().lower()\n",
    "    if '0' in x and '.0' not in str(cat):\n",
    "        x = x.replace('0','na')\n",
    "    return x\n",
    "\n",
    "def get_main_sector(x):\n",
    "    x = x.strip().lower()\n",
    "    if x in category_list:\n",
    "        try:\n",
    "            i = list(mapping_df[mapping_df['category_list']==x].values[0]).index(1)\n",
    "            return mapping_df.columns[i]\n",
    "        except:\n",
    "            pass#print(\"ERROR\",x)\n",
    "    return ''\n",
    "\n",
    "mapping_df['category_list'] = mapping_df['category_list'].apply(lambda x: clean_category_list(x))\n",
    "category_list = mapping_df['category_list'].values\n",
    "\n",
    "mapping_df['main_sector'] = mapping_df['category_list'].apply(lambda x:get_main_sector(x)) \n",
    "mapping_df = mapping_df[['category_list','main_sector']]\n",
    "\n",
    "mapping_df.head()\n",
    "# filtered_df['main_sector'] = filtered_df['primary_sector'].apply(lambda x:get_main_sector(x))"
   ]
  },
  {
   "cell_type": "code",
   "execution_count": 39,
   "metadata": {},
   "outputs": [],
   "source": [
    "# mapping_df.category_list.values"
   ]
  },
  {
   "cell_type": "code",
   "execution_count": 40,
   "metadata": {},
   "outputs": [],
   "source": [
    "# filtered_df.columns"
   ]
  },
  {
   "cell_type": "code",
   "execution_count": 41,
   "metadata": {},
   "outputs": [],
   "source": [
    "# mapping_df.columns"
   ]
  },
  {
   "cell_type": "code",
   "execution_count": 42,
   "metadata": {},
   "outputs": [],
   "source": [
    "master_df = filtered_df.merge(mapping_df,left_on='primary_sector',right_on='category_list',how='inner')"
   ]
  },
  {
   "cell_type": "code",
   "execution_count": 43,
   "metadata": {},
   "outputs": [
    {
     "data": {
      "text/plain": [
       "Others                                     9110\n",
       "Cleantech / Semiconductors                 8492\n",
       "Social, Finance, Analytics, Advertising    7814\n",
       "News, Search and Messaging                 4727\n",
       "Health                                     3429\n",
       "Manufacturing                              2630\n",
       "Entertainment                              2006\n",
       "Automotive & Sports                         580\n",
       "Name: main_sector, dtype: int64"
      ]
     },
     "execution_count": 43,
     "metadata": {},
     "output_type": "execute_result"
    }
   ],
   "source": [
    "master_df.main_sector.value_counts()"
   ]
  },
  {
   "cell_type": "code",
   "execution_count": 44,
   "metadata": {},
   "outputs": [
    {
     "data": {
      "text/plain": [
       "others                                     9110\n",
       "cleantech / semiconductors                 8492\n",
       "social, finance, analytics, advertising    7814\n",
       "news, search and messaging                 4727\n",
       "health                                     3429\n",
       "manufacturing                              2630\n",
       "entertainment                              2006\n",
       "automotive & sports                         580\n",
       "Name: main_sector, dtype: int64"
      ]
     },
     "execution_count": 44,
     "metadata": {},
     "output_type": "execute_result"
    }
   ],
   "source": [
    "master_df.main_sector.str.lower().value_counts()"
   ]
  },
  {
   "cell_type": "markdown",
   "metadata": {},
   "source": [
    "### Hence, it's not required to do 'main_sector' normalization/standardization"
   ]
  },
  {
   "cell_type": "code",
   "execution_count": 45,
   "metadata": {},
   "outputs": [
    {
     "data": {
      "text/plain": [
       "(38788, 11)"
      ]
     },
     "execution_count": 45,
     "metadata": {},
     "output_type": "execute_result"
    }
   ],
   "source": [
    "master_df.shape"
   ]
  },
  {
   "cell_type": "code",
   "execution_count": 46,
   "metadata": {},
   "outputs": [],
   "source": [
    "# new_master_df.columns"
   ]
  },
  {
   "cell_type": "code",
   "execution_count": 47,
   "metadata": {},
   "outputs": [
    {
     "data": {
      "text/html": [
       "<div>\n",
       "<style scoped>\n",
       "    .dataframe tbody tr th:only-of-type {\n",
       "        vertical-align: middle;\n",
       "    }\n",
       "\n",
       "    .dataframe tbody tr th {\n",
       "        vertical-align: top;\n",
       "    }\n",
       "\n",
       "    .dataframe thead th {\n",
       "        text-align: right;\n",
       "    }\n",
       "</style>\n",
       "<table border=\"1\" class=\"dataframe\">\n",
       "  <thead>\n",
       "    <tr style=\"text-align: right;\">\n",
       "      <th></th>\n",
       "      <th>company_permalink</th>\n",
       "      <th>funding_round_permalink</th>\n",
       "      <th>funding_round_type</th>\n",
       "      <th>raised_amount_usd</th>\n",
       "      <th>name</th>\n",
       "      <th>category_list_x</th>\n",
       "      <th>country_code</th>\n",
       "      <th>status</th>\n",
       "      <th>primary_sector</th>\n",
       "      <th>category_list_y</th>\n",
       "      <th>main_sector</th>\n",
       "    </tr>\n",
       "  </thead>\n",
       "  <tbody>\n",
       "    <tr>\n",
       "      <th>0</th>\n",
       "      <td>/organization/-fame</td>\n",
       "      <td>/funding-round/9a01d05418af9f794eebff7ace91f638</td>\n",
       "      <td>venture</td>\n",
       "      <td>10000000.0</td>\n",
       "      <td>#fame</td>\n",
       "      <td>Media</td>\n",
       "      <td>IND</td>\n",
       "      <td>operating</td>\n",
       "      <td>media</td>\n",
       "      <td>media</td>\n",
       "      <td>Entertainment</td>\n",
       "    </tr>\n",
       "    <tr>\n",
       "      <th>1</th>\n",
       "      <td>/organization/90min</td>\n",
       "      <td>/funding-round/21a2cbf6f2fb2a1c2a61e04bf930dfe6</td>\n",
       "      <td>venture</td>\n",
       "      <td>15000000.0</td>\n",
       "      <td>90min</td>\n",
       "      <td>Media|News|Publishing|Soccer|Sports</td>\n",
       "      <td>GBR</td>\n",
       "      <td>operating</td>\n",
       "      <td>media</td>\n",
       "      <td>media</td>\n",
       "      <td>Entertainment</td>\n",
       "    </tr>\n",
       "    <tr>\n",
       "      <th>2</th>\n",
       "      <td>/organization/90min</td>\n",
       "      <td>/funding-round/bd626ed022f5c66574b1afe234f3c90d</td>\n",
       "      <td>venture</td>\n",
       "      <td>5800000.0</td>\n",
       "      <td>90min</td>\n",
       "      <td>Media|News|Publishing|Soccer|Sports</td>\n",
       "      <td>GBR</td>\n",
       "      <td>operating</td>\n",
       "      <td>media</td>\n",
       "      <td>media</td>\n",
       "      <td>Entertainment</td>\n",
       "    </tr>\n",
       "    <tr>\n",
       "      <th>3</th>\n",
       "      <td>/organization/90min</td>\n",
       "      <td>/funding-round/fd4b15e8c97ee2ffc0acccdbe1a98810</td>\n",
       "      <td>venture</td>\n",
       "      <td>18000000.0</td>\n",
       "      <td>90min</td>\n",
       "      <td>Media|News|Publishing|Soccer|Sports</td>\n",
       "      <td>GBR</td>\n",
       "      <td>operating</td>\n",
       "      <td>media</td>\n",
       "      <td>media</td>\n",
       "      <td>Entertainment</td>\n",
       "    </tr>\n",
       "    <tr>\n",
       "      <th>4</th>\n",
       "      <td>/organization/all-def-digital</td>\n",
       "      <td>/funding-round/452a2342fe720285c3b92e9bd927d9ba</td>\n",
       "      <td>venture</td>\n",
       "      <td>5000000.0</td>\n",
       "      <td>All Def Digital</td>\n",
       "      <td>Media</td>\n",
       "      <td>USA</td>\n",
       "      <td>operating</td>\n",
       "      <td>media</td>\n",
       "      <td>media</td>\n",
       "      <td>Entertainment</td>\n",
       "    </tr>\n",
       "  </tbody>\n",
       "</table>\n",
       "</div>"
      ],
      "text/plain": [
       "               company_permalink  \\\n",
       "0            /organization/-fame   \n",
       "1            /organization/90min   \n",
       "2            /organization/90min   \n",
       "3            /organization/90min   \n",
       "4  /organization/all-def-digital   \n",
       "\n",
       "                           funding_round_permalink funding_round_type  \\\n",
       "0  /funding-round/9a01d05418af9f794eebff7ace91f638            venture   \n",
       "1  /funding-round/21a2cbf6f2fb2a1c2a61e04bf930dfe6            venture   \n",
       "2  /funding-round/bd626ed022f5c66574b1afe234f3c90d            venture   \n",
       "3  /funding-round/fd4b15e8c97ee2ffc0acccdbe1a98810            venture   \n",
       "4  /funding-round/452a2342fe720285c3b92e9bd927d9ba            venture   \n",
       "\n",
       "   raised_amount_usd             name                      category_list_x  \\\n",
       "0         10000000.0            #fame                                Media   \n",
       "1         15000000.0            90min  Media|News|Publishing|Soccer|Sports   \n",
       "2          5800000.0            90min  Media|News|Publishing|Soccer|Sports   \n",
       "3         18000000.0            90min  Media|News|Publishing|Soccer|Sports   \n",
       "4          5000000.0  All Def Digital                                Media   \n",
       "\n",
       "  country_code     status primary_sector category_list_y    main_sector  \n",
       "0          IND  operating          media           media  Entertainment  \n",
       "1          GBR  operating          media           media  Entertainment  \n",
       "2          GBR  operating          media           media  Entertainment  \n",
       "3          GBR  operating          media           media  Entertainment  \n",
       "4          USA  operating          media           media  Entertainment  "
      ]
     },
     "execution_count": 47,
     "metadata": {},
     "output_type": "execute_result"
    }
   ],
   "source": [
    "master_df.head()"
   ]
  },
  {
   "cell_type": "markdown",
   "metadata": {},
   "source": [
    "### Checkpoint 5 : Sector Analysis 2"
   ]
  },
  {
   "cell_type": "code",
   "execution_count": 48,
   "metadata": {},
   "outputs": [
    {
     "name": "stdout",
     "output_type": "stream",
     "text": [
      "<class 'pandas.core.frame.DataFrame'>\n",
      "Int64Index: 38788 entries, 0 to 38787\n",
      "Data columns (total 11 columns):\n",
      "company_permalink          38788 non-null object\n",
      "funding_round_permalink    38788 non-null object\n",
      "funding_round_type         38788 non-null object\n",
      "raised_amount_usd          38788 non-null float64\n",
      "name                       38788 non-null object\n",
      "category_list_x            38788 non-null object\n",
      "country_code               38788 non-null object\n",
      "status                     38788 non-null object\n",
      "primary_sector             38788 non-null object\n",
      "category_list_y            38788 non-null object\n",
      "main_sector                38788 non-null object\n",
      "dtypes: float64(1), object(10)\n",
      "memory usage: 3.6+ MB\n"
     ]
    }
   ],
   "source": [
    "master_df.info()"
   ]
  },
  {
   "cell_type": "code",
   "execution_count": 49,
   "metadata": {},
   "outputs": [
    {
     "data": {
      "text/plain": [
       "company_permalink          0\n",
       "funding_round_permalink    0\n",
       "funding_round_type         0\n",
       "raised_amount_usd          0\n",
       "name                       0\n",
       "category_list_x            0\n",
       "country_code               0\n",
       "status                     0\n",
       "primary_sector             0\n",
       "category_list_y            0\n",
       "main_sector                0\n",
       "dtype: int64"
      ]
     },
     "execution_count": 49,
     "metadata": {},
     "output_type": "execute_result"
    }
   ],
   "source": [
    "master_df.isna().sum()"
   ]
  },
  {
   "cell_type": "code",
   "execution_count": 50,
   "metadata": {},
   "outputs": [],
   "source": [
    "D1 = master_df[(master_df['country_code']=='USA')&(master_df['funding_round_type']=='venture')&(master_df['raised_amount_usd']<=15000000)&(master_df['raised_amount_usd']>=5000000)]\n",
    "D2 = master_df[(master_df['country_code']=='GBR')&(master_df['funding_round_type']=='venture')&(master_df['raised_amount_usd']<=15000000)&(master_df['raised_amount_usd']>=5000000)]\n",
    "D3 = master_df[(master_df['country_code']=='IND')&(master_df['funding_round_type']=='venture')&(master_df['raised_amount_usd']<=15000000)&(master_df['raised_amount_usd']>=5000000)]\n",
    "\n",
    "# D1.head()"
   ]
  },
  {
   "cell_type": "markdown",
   "metadata": {},
   "source": [
    "### Tale 5.1\n",
    "\n",
    "##### Q 1-2"
   ]
  },
  {
   "cell_type": "code",
   "execution_count": 51,
   "metadata": {},
   "outputs": [
    {
     "data": {
      "text/plain": [
       "((12063, 11), (621, 11), (328, 11))"
      ]
     },
     "execution_count": 51,
     "metadata": {},
     "output_type": "execute_result"
    }
   ],
   "source": [
    "D1.shape,D2.shape,D3.shape"
   ]
  },
  {
   "cell_type": "code",
   "execution_count": 52,
   "metadata": {},
   "outputs": [
    {
     "data": {
      "text/plain": [
       "(107757097294.0, 5379078691.0, 2949543602.0)"
      ]
     },
     "execution_count": 52,
     "metadata": {},
     "output_type": "execute_result"
    }
   ],
   "source": [
    "D1.raised_amount_usd.sum(),D2.raised_amount_usd.sum(),D3.raised_amount_usd.sum()"
   ]
  },
  {
   "cell_type": "code",
   "execution_count": null,
   "metadata": {},
   "outputs": [],
   "source": []
  },
  {
   "cell_type": "markdown",
   "metadata": {},
   "source": [
    "#### Country wise stats"
   ]
  },
  {
   "cell_type": "code",
   "execution_count": 53,
   "metadata": {},
   "outputs": [],
   "source": [
    "# current_df = D1\n",
    "# current_df = D2\n",
    "current_df = D3"
   ]
  },
  {
   "cell_type": "code",
   "execution_count": 54,
   "metadata": {},
   "outputs": [
    {
     "data": {
      "text/html": [
       "<div>\n",
       "<style scoped>\n",
       "    .dataframe tbody tr th:only-of-type {\n",
       "        vertical-align: middle;\n",
       "    }\n",
       "\n",
       "    .dataframe tbody tr th {\n",
       "        vertical-align: top;\n",
       "    }\n",
       "\n",
       "    .dataframe thead th {\n",
       "        text-align: right;\n",
       "    }\n",
       "</style>\n",
       "<table border=\"1\" class=\"dataframe\">\n",
       "  <thead>\n",
       "    <tr style=\"text-align: right;\">\n",
       "      <th></th>\n",
       "      <th>funding_round_type</th>\n",
       "      <th>country_code</th>\n",
       "      <th>main_sector</th>\n",
       "    </tr>\n",
       "  </thead>\n",
       "  <tbody>\n",
       "    <tr>\n",
       "      <th>count</th>\n",
       "      <td>328</td>\n",
       "      <td>328</td>\n",
       "      <td>328</td>\n",
       "    </tr>\n",
       "    <tr>\n",
       "      <th>unique</th>\n",
       "      <td>1</td>\n",
       "      <td>1</td>\n",
       "      <td>8</td>\n",
       "    </tr>\n",
       "    <tr>\n",
       "      <th>top</th>\n",
       "      <td>venture</td>\n",
       "      <td>IND</td>\n",
       "      <td>Others</td>\n",
       "    </tr>\n",
       "    <tr>\n",
       "      <th>freq</th>\n",
       "      <td>328</td>\n",
       "      <td>328</td>\n",
       "      <td>110</td>\n",
       "    </tr>\n",
       "  </tbody>\n",
       "</table>\n",
       "</div>"
      ],
      "text/plain": [
       "       funding_round_type country_code main_sector\n",
       "count                 328          328         328\n",
       "unique                  1            1           8\n",
       "top               venture          IND      Others\n",
       "freq                  328          328         110"
      ]
     },
     "execution_count": 54,
     "metadata": {},
     "output_type": "execute_result"
    }
   ],
   "source": [
    "current_df[['funding_round_type','country_code','main_sector']].describe()"
   ]
  },
  {
   "cell_type": "code",
   "execution_count": 55,
   "metadata": {},
   "outputs": [
    {
     "data": {
      "text/plain": [
       "count    3.280000e+02\n",
       "mean     8.992511e+06\n",
       "std      3.219811e+06\n",
       "min      5.000000e+06\n",
       "25%      6.000000e+06\n",
       "50%      8.700000e+06\n",
       "75%      1.055500e+07\n",
       "max      1.500000e+07\n",
       "Name: raised_amount_usd, dtype: float64"
      ]
     },
     "execution_count": 55,
     "metadata": {},
     "output_type": "execute_result"
    }
   ],
   "source": [
    "current_df['raised_amount_usd'].describe()"
   ]
  },
  {
   "cell_type": "code",
   "execution_count": 56,
   "metadata": {},
   "outputs": [
    {
     "data": {
      "text/plain": [
       "operating    292\n",
       "acquired      17\n",
       "closed        13\n",
       "ipo            6\n",
       "Name: status, dtype: int64"
      ]
     },
     "execution_count": 56,
     "metadata": {},
     "output_type": "execute_result"
    }
   ],
   "source": [
    "current_df.status.value_counts()"
   ]
  },
  {
   "cell_type": "markdown",
   "metadata": {},
   "source": [
    "#### Q 3-8"
   ]
  },
  {
   "cell_type": "code",
   "execution_count": 57,
   "metadata": {},
   "outputs": [
    {
     "data": {
      "text/html": [
       "<div>\n",
       "<style scoped>\n",
       "    .dataframe tbody tr th:only-of-type {\n",
       "        vertical-align: middle;\n",
       "    }\n",
       "\n",
       "    .dataframe tbody tr th {\n",
       "        vertical-align: top;\n",
       "    }\n",
       "\n",
       "    .dataframe thead th {\n",
       "        text-align: right;\n",
       "    }\n",
       "</style>\n",
       "<table border=\"1\" class=\"dataframe\">\n",
       "  <thead>\n",
       "    <tr style=\"text-align: right;\">\n",
       "      <th></th>\n",
       "      <th>main_sector</th>\n",
       "      <th>funding_round_permalink</th>\n",
       "    </tr>\n",
       "  </thead>\n",
       "  <tbody>\n",
       "    <tr>\n",
       "      <th>6</th>\n",
       "      <td>Others</td>\n",
       "      <td>110</td>\n",
       "    </tr>\n",
       "    <tr>\n",
       "      <th>7</th>\n",
       "      <td>Social, Finance, Analytics, Advertising</td>\n",
       "      <td>60</td>\n",
       "    </tr>\n",
       "    <tr>\n",
       "      <th>5</th>\n",
       "      <td>News, Search and Messaging</td>\n",
       "      <td>52</td>\n",
       "    </tr>\n",
       "    <tr>\n",
       "      <th>2</th>\n",
       "      <td>Entertainment</td>\n",
       "      <td>33</td>\n",
       "    </tr>\n",
       "    <tr>\n",
       "      <th>4</th>\n",
       "      <td>Manufacturing</td>\n",
       "      <td>21</td>\n",
       "    </tr>\n",
       "    <tr>\n",
       "      <th>1</th>\n",
       "      <td>Cleantech / Semiconductors</td>\n",
       "      <td>20</td>\n",
       "    </tr>\n",
       "    <tr>\n",
       "      <th>3</th>\n",
       "      <td>Health</td>\n",
       "      <td>19</td>\n",
       "    </tr>\n",
       "    <tr>\n",
       "      <th>0</th>\n",
       "      <td>Automotive &amp; Sports</td>\n",
       "      <td>13</td>\n",
       "    </tr>\n",
       "  </tbody>\n",
       "</table>\n",
       "</div>"
      ],
      "text/plain": [
       "                               main_sector  funding_round_permalink\n",
       "6                                   Others                      110\n",
       "7  Social, Finance, Analytics, Advertising                       60\n",
       "5               News, Search and Messaging                       52\n",
       "2                            Entertainment                       33\n",
       "4                            Manufacturing                       21\n",
       "1               Cleantech / Semiconductors                       20\n",
       "3                                   Health                       19\n",
       "0                      Automotive & Sports                       13"
      ]
     },
     "execution_count": 57,
     "metadata": {},
     "output_type": "execute_result"
    }
   ],
   "source": [
    "aggregate = current_df.groupby('main_sector').count()['funding_round_permalink'].reset_index()\n",
    "top_sectors = aggregate.sort_values(by='funding_round_permalink',ascending=False)\n",
    "top_sectors"
   ]
  },
  {
   "cell_type": "code",
   "execution_count": 58,
   "metadata": {},
   "outputs": [],
   "source": [
    "# current_df.groupby('main_sector').sum().reset_index().sort_values(by='raised_amount_usd',ascending=False)"
   ]
  },
  {
   "cell_type": "markdown",
   "metadata": {},
   "source": [
    "#### Q 9-10"
   ]
  },
  {
   "cell_type": "code",
   "execution_count": 59,
   "metadata": {},
   "outputs": [
    {
     "name": "stdout",
     "output_type": "stream",
     "text": [
      "Others\n"
     ]
    },
    {
     "data": {
      "text/html": [
       "<div>\n",
       "<style scoped>\n",
       "    .dataframe tbody tr th:only-of-type {\n",
       "        vertical-align: middle;\n",
       "    }\n",
       "\n",
       "    .dataframe tbody tr th {\n",
       "        vertical-align: top;\n",
       "    }\n",
       "\n",
       "    .dataframe thead th {\n",
       "        text-align: right;\n",
       "    }\n",
       "</style>\n",
       "<table border=\"1\" class=\"dataframe\">\n",
       "  <thead>\n",
       "    <tr style=\"text-align: right;\">\n",
       "      <th></th>\n",
       "      <th>company_permalink</th>\n",
       "      <th>raised_amount_usd</th>\n",
       "    </tr>\n",
       "  </thead>\n",
       "  <tbody>\n",
       "    <tr>\n",
       "      <th>27</th>\n",
       "      <td>/organization/firstcry-com</td>\n",
       "      <td>39000000.0</td>\n",
       "    </tr>\n",
       "    <tr>\n",
       "      <th>48</th>\n",
       "      <td>/organization/myntra</td>\n",
       "      <td>38000000.0</td>\n",
       "    </tr>\n",
       "    <tr>\n",
       "      <th>16</th>\n",
       "      <td>/organization/commonfloor</td>\n",
       "      <td>32900000.0</td>\n",
       "    </tr>\n",
       "    <tr>\n",
       "      <th>60</th>\n",
       "      <td>/organization/pepperfry-com</td>\n",
       "      <td>28000000.0</td>\n",
       "    </tr>\n",
       "    <tr>\n",
       "      <th>40</th>\n",
       "      <td>/organization/itzcash-card-ltd</td>\n",
       "      <td>25000000.0</td>\n",
       "    </tr>\n",
       "  </tbody>\n",
       "</table>\n",
       "</div>"
      ],
      "text/plain": [
       "                 company_permalink  raised_amount_usd\n",
       "27      /organization/firstcry-com         39000000.0\n",
       "48            /organization/myntra         38000000.0\n",
       "16       /organization/commonfloor         32900000.0\n",
       "60     /organization/pepperfry-com         28000000.0\n",
       "40  /organization/itzcash-card-ltd         25000000.0"
      ]
     },
     "execution_count": 59,
     "metadata": {},
     "output_type": "execute_result"
    }
   ],
   "source": [
    "main_sector_ = top_sectors.iloc[0,0]\n",
    "print(top_sectors.iloc[0,0])\n",
    "\n",
    "fundings_in_that_sector = current_df[current_df.main_sector==main_sector_][['raised_amount_usd','company_permalink','name','main_sector']]\n",
    "total_fundings = fundings_in_that_sector.groupby('company_permalink').sum().reset_index().sort_values(by='raised_amount_usd',ascending=False)\n",
    "top5_companies = total_fundings.head()\n",
    "top5_companies"
   ]
  },
  {
   "cell_type": "code",
   "execution_count": 60,
   "metadata": {},
   "outputs": [
    {
     "data": {
      "text/html": [
       "<div>\n",
       "<style scoped>\n",
       "    .dataframe tbody tr th:only-of-type {\n",
       "        vertical-align: middle;\n",
       "    }\n",
       "\n",
       "    .dataframe tbody tr th {\n",
       "        vertical-align: top;\n",
       "    }\n",
       "\n",
       "    .dataframe thead th {\n",
       "        text-align: right;\n",
       "    }\n",
       "</style>\n",
       "<table border=\"1\" class=\"dataframe\">\n",
       "  <thead>\n",
       "    <tr style=\"text-align: right;\">\n",
       "      <th></th>\n",
       "      <th>company_permalink</th>\n",
       "      <th>name</th>\n",
       "      <th>status</th>\n",
       "      <th>country_code</th>\n",
       "    </tr>\n",
       "  </thead>\n",
       "  <tbody>\n",
       "    <tr>\n",
       "      <th>20631</th>\n",
       "      <td>/organization/firstcry-com</td>\n",
       "      <td>FirstCry.com</td>\n",
       "      <td>operating</td>\n",
       "      <td>IND</td>\n",
       "    </tr>\n",
       "    <tr>\n",
       "      <th>20632</th>\n",
       "      <td>/organization/firstcry-com</td>\n",
       "      <td>FirstCry.com</td>\n",
       "      <td>operating</td>\n",
       "      <td>IND</td>\n",
       "    </tr>\n",
       "    <tr>\n",
       "      <th>20633</th>\n",
       "      <td>/organization/firstcry-com</td>\n",
       "      <td>FirstCry.com</td>\n",
       "      <td>operating</td>\n",
       "      <td>IND</td>\n",
       "    </tr>\n",
       "  </tbody>\n",
       "</table>\n",
       "</div>"
      ],
      "text/plain": [
       "                company_permalink          name     status country_code\n",
       "20631  /organization/firstcry-com  FirstCry.com  operating          IND\n",
       "20632  /organization/firstcry-com  FirstCry.com  operating          IND\n",
       "20633  /organization/firstcry-com  FirstCry.com  operating          IND"
      ]
     },
     "execution_count": 60,
     "metadata": {},
     "output_type": "execute_result"
    }
   ],
   "source": [
    "current_df[current_df['company_permalink']==top5_companies.iloc[0,0]][['company_permalink','name','status','country_code']]"
   ]
  },
  {
   "cell_type": "code",
   "execution_count": 61,
   "metadata": {},
   "outputs": [
    {
     "name": "stdout",
     "output_type": "stream",
     "text": [
      "Social, Finance, Analytics, Advertising\n"
     ]
    },
    {
     "data": {
      "text/html": [
       "<div>\n",
       "<style scoped>\n",
       "    .dataframe tbody tr th:only-of-type {\n",
       "        vertical-align: middle;\n",
       "    }\n",
       "\n",
       "    .dataframe tbody tr th {\n",
       "        vertical-align: top;\n",
       "    }\n",
       "\n",
       "    .dataframe thead th {\n",
       "        text-align: right;\n",
       "    }\n",
       "</style>\n",
       "<table border=\"1\" class=\"dataframe\">\n",
       "  <thead>\n",
       "    <tr style=\"text-align: right;\">\n",
       "      <th></th>\n",
       "      <th>company_permalink</th>\n",
       "      <th>raised_amount_usd</th>\n",
       "    </tr>\n",
       "  </thead>\n",
       "  <tbody>\n",
       "    <tr>\n",
       "      <th>31</th>\n",
       "      <td>/organization/manthan-systems</td>\n",
       "      <td>50700000.0</td>\n",
       "    </tr>\n",
       "    <tr>\n",
       "      <th>28</th>\n",
       "      <td>/organization/komli-media</td>\n",
       "      <td>28000000.0</td>\n",
       "    </tr>\n",
       "    <tr>\n",
       "      <th>41</th>\n",
       "      <td>/organization/shopclues-com</td>\n",
       "      <td>25000000.0</td>\n",
       "    </tr>\n",
       "    <tr>\n",
       "      <th>27</th>\n",
       "      <td>/organization/intarvo</td>\n",
       "      <td>21900000.0</td>\n",
       "    </tr>\n",
       "    <tr>\n",
       "      <th>22</th>\n",
       "      <td>/organization/grameen-financial-services</td>\n",
       "      <td>21556050.0</td>\n",
       "    </tr>\n",
       "  </tbody>\n",
       "</table>\n",
       "</div>"
      ],
      "text/plain": [
       "                           company_permalink  raised_amount_usd\n",
       "31             /organization/manthan-systems         50700000.0\n",
       "28                 /organization/komli-media         28000000.0\n",
       "41               /organization/shopclues-com         25000000.0\n",
       "27                     /organization/intarvo         21900000.0\n",
       "22  /organization/grameen-financial-services         21556050.0"
      ]
     },
     "execution_count": 61,
     "metadata": {},
     "output_type": "execute_result"
    }
   ],
   "source": [
    "main_sector_ = top_sectors.iloc[1,0]\n",
    "print(top_sectors.iloc[1,0])\n",
    "fundings_in_that_sector = current_df[current_df.main_sector==main_sector_][['raised_amount_usd','company_permalink','name','main_sector']]\n",
    "total_fundings = fundings_in_that_sector.groupby('company_permalink').sum().reset_index().sort_values(by='raised_amount_usd',ascending=False)\n",
    "top5_companies = total_fundings.head()\n",
    "top5_companies"
   ]
  },
  {
   "cell_type": "code",
   "execution_count": 62,
   "metadata": {},
   "outputs": [
    {
     "data": {
      "text/html": [
       "<div>\n",
       "<style scoped>\n",
       "    .dataframe tbody tr th:only-of-type {\n",
       "        vertical-align: middle;\n",
       "    }\n",
       "\n",
       "    .dataframe tbody tr th {\n",
       "        vertical-align: top;\n",
       "    }\n",
       "\n",
       "    .dataframe thead th {\n",
       "        text-align: right;\n",
       "    }\n",
       "</style>\n",
       "<table border=\"1\" class=\"dataframe\">\n",
       "  <thead>\n",
       "    <tr style=\"text-align: right;\">\n",
       "      <th></th>\n",
       "      <th>company_permalink</th>\n",
       "      <th>name</th>\n",
       "      <th>status</th>\n",
       "      <th>country_code</th>\n",
       "    </tr>\n",
       "  </thead>\n",
       "  <tbody>\n",
       "    <tr>\n",
       "      <th>741</th>\n",
       "      <td>/organization/manthan-systems</td>\n",
       "      <td>Manthan Systems</td>\n",
       "      <td>operating</td>\n",
       "      <td>IND</td>\n",
       "    </tr>\n",
       "    <tr>\n",
       "      <th>742</th>\n",
       "      <td>/organization/manthan-systems</td>\n",
       "      <td>Manthan Systems</td>\n",
       "      <td>operating</td>\n",
       "      <td>IND</td>\n",
       "    </tr>\n",
       "    <tr>\n",
       "      <th>744</th>\n",
       "      <td>/organization/manthan-systems</td>\n",
       "      <td>Manthan Systems</td>\n",
       "      <td>operating</td>\n",
       "      <td>IND</td>\n",
       "    </tr>\n",
       "    <tr>\n",
       "      <th>745</th>\n",
       "      <td>/organization/manthan-systems</td>\n",
       "      <td>Manthan Systems</td>\n",
       "      <td>operating</td>\n",
       "      <td>IND</td>\n",
       "    </tr>\n",
       "  </tbody>\n",
       "</table>\n",
       "</div>"
      ],
      "text/plain": [
       "                 company_permalink             name     status country_code\n",
       "741  /organization/manthan-systems  Manthan Systems  operating          IND\n",
       "742  /organization/manthan-systems  Manthan Systems  operating          IND\n",
       "744  /organization/manthan-systems  Manthan Systems  operating          IND\n",
       "745  /organization/manthan-systems  Manthan Systems  operating          IND"
      ]
     },
     "execution_count": 62,
     "metadata": {},
     "output_type": "execute_result"
    }
   ],
   "source": [
    "current_df[current_df['company_permalink']==top5_companies.iloc[0,0]][['company_permalink','name','status','country_code']]"
   ]
  },
  {
   "cell_type": "markdown",
   "metadata": {},
   "source": [
    "#### Answers to Q9-10:\n",
    "    1) C1(USA) : Virtustream | SST Inc. (Formerly ShotSpotter)\n",
    "    2) C2(GBR) : Electric Cloud | Celltick Technologies\n",
    "    3) C3(INR) : FirstCry.com | Manthan Systems\t"
   ]
  },
  {
   "cell_type": "code",
   "execution_count": null,
   "metadata": {},
   "outputs": [],
   "source": [
    "    "
   ]
  },
  {
   "cell_type": "markdown",
   "metadata": {},
   "source": [
    "### Checkpoint 6 "
   ]
  },
  {
   "cell_type": "markdown",
   "metadata": {},
   "source": [
    "#### Plot 1"
   ]
  },
  {
   "cell_type": "code",
   "execution_count": 63,
   "metadata": {},
   "outputs": [
    {
     "data": {
      "text/plain": [
       "array(['IND', 'USA', 'CHN', 'HKG', 'CAN', 'CHL', 'GBR', 'FRA', 'AUS',\n",
       "       'ROM', 'KOR', 'NLD', 'SWE', 'RUS', 'DNK', 'NOR', 'COL', 'ESP',\n",
       "       'BEL', 'IRL', 'ITA', 'ISR', 'SGP', 'NZL', 'CHE', 'BRA', 'SVN',\n",
       "       'JOR', 'HUN', 'JPN', 'BWA', 'DEU', 'NGA', 'FIN', 'CYP', 'CRI',\n",
       "       'IDN', 'PRT', 'ARG', 'TWN', 'THA', 'SVK', 'UKR', 'LTU', 'ISL',\n",
       "       'MEX', 'TUR', 'VEN', 'URY', 'AUT', 'KEN', 'ZAF', 'PHL', 'MNE',\n",
       "       'MYS', 'PER', 'POL', 'EGY', 'PAN', 'LVA', 'GGY', 'VNM', 'UGA',\n",
       "       'HRV', 'EST', 'BGR', 'MUS', 'LBN', 'GRC', 'NPL', 'LUX', 'CZE',\n",
       "       'ARE', 'SAU', 'PAK', 'IRN', 'ALB', 'BAH', 'ARM', 'BGD', 'MDA',\n",
       "       'GHA', 'TUN', 'ZWE', 'BRB', 'NIC', 'TAN', 'TTO', 'CMR', 'SRB',\n",
       "       'PRI', 'BLR', 'CYM', 'ECU', 'SLV', 'MLT', 'GTM', 'ZMB', 'GIB',\n",
       "       'BHR', 'TGO', 'BMU', 'HND', 'MCO', 'MMR', 'KAZ', 'QAT', 'MAR',\n",
       "       'LIE', 'GEO', 'DOM', 'DZA', 'JAM', 'KNA', 'AZE', 'SEN', 'RWA',\n",
       "       'DMA', 'UZB', 'BLZ', 'OMN', 'PSE', 'KWT', 'KHM', 'CIV', 'BLM',\n",
       "       'GRD', 'LAO', 'SOM', 'MKD', 'LKA', 'SYC', 'PRY', 'MAF'],\n",
       "      dtype=object)"
      ]
     },
     "execution_count": 63,
     "metadata": {},
     "output_type": "execute_result"
    }
   ],
   "source": [
    "master_frame.country_code.unique()"
   ]
  },
  {
   "cell_type": "code",
   "execution_count": 64,
   "metadata": {},
   "outputs": [
    {
     "data": {
      "text/plain": [
       "array(['venture', 'seed', 'undisclosed', 'convertible_note',\n",
       "       'private_equity', 'debt_financing', 'angel', 'grant',\n",
       "       'equity_crowdfunding', 'post_ipo_equity', 'post_ipo_debt',\n",
       "       'product_crowdfunding', 'secondary_market',\n",
       "       'non_equity_assistance'], dtype=object)"
      ]
     },
     "execution_count": 64,
     "metadata": {},
     "output_type": "execute_result"
    }
   ],
   "source": [
    "master_frame.funding_round_type.unique()"
   ]
  },
  {
   "cell_type": "code",
   "execution_count": 65,
   "metadata": {},
   "outputs": [
    {
     "data": {
      "text/html": [
       "<div>\n",
       "<style scoped>\n",
       "    .dataframe tbody tr th:only-of-type {\n",
       "        vertical-align: middle;\n",
       "    }\n",
       "\n",
       "    .dataframe tbody tr th {\n",
       "        vertical-align: top;\n",
       "    }\n",
       "\n",
       "    .dataframe thead th {\n",
       "        text-align: right;\n",
       "    }\n",
       "</style>\n",
       "<table border=\"1\" class=\"dataframe\">\n",
       "  <thead>\n",
       "    <tr style=\"text-align: right;\">\n",
       "      <th></th>\n",
       "      <th>funding_round_type</th>\n",
       "      <th>company_permalink</th>\n",
       "      <th>funding_round_permalink</th>\n",
       "      <th>raised_amount_usd</th>\n",
       "      <th>name</th>\n",
       "      <th>category_list</th>\n",
       "      <th>country_code</th>\n",
       "      <th>status</th>\n",
       "      <th>fraction_of_total_investments</th>\n",
       "    </tr>\n",
       "  </thead>\n",
       "  <tbody>\n",
       "    <tr>\n",
       "      <th>0</th>\n",
       "      <td>angel</td>\n",
       "      <td>4400</td>\n",
       "      <td>4400</td>\n",
       "      <td>4400</td>\n",
       "      <td>4400</td>\n",
       "      <td>4400</td>\n",
       "      <td>4400</td>\n",
       "      <td>4400</td>\n",
       "      <td>0.049702</td>\n",
       "    </tr>\n",
       "    <tr>\n",
       "      <th>8</th>\n",
       "      <td>private_equity</td>\n",
       "      <td>1820</td>\n",
       "      <td>1820</td>\n",
       "      <td>1820</td>\n",
       "      <td>1820</td>\n",
       "      <td>1820</td>\n",
       "      <td>1820</td>\n",
       "      <td>1820</td>\n",
       "      <td>0.020558</td>\n",
       "    </tr>\n",
       "    <tr>\n",
       "      <th>11</th>\n",
       "      <td>seed</td>\n",
       "      <td>21094</td>\n",
       "      <td>21094</td>\n",
       "      <td>21094</td>\n",
       "      <td>21094</td>\n",
       "      <td>21094</td>\n",
       "      <td>21094</td>\n",
       "      <td>21094</td>\n",
       "      <td>0.238275</td>\n",
       "    </tr>\n",
       "    <tr>\n",
       "      <th>13</th>\n",
       "      <td>venture</td>\n",
       "      <td>47809</td>\n",
       "      <td>47809</td>\n",
       "      <td>47809</td>\n",
       "      <td>47809</td>\n",
       "      <td>47809</td>\n",
       "      <td>47809</td>\n",
       "      <td>47809</td>\n",
       "      <td>0.540044</td>\n",
       "    </tr>\n",
       "  </tbody>\n",
       "</table>\n",
       "</div>"
      ],
      "text/plain": [
       "   funding_round_type  company_permalink  funding_round_permalink  \\\n",
       "0               angel               4400                     4400   \n",
       "8      private_equity               1820                     1820   \n",
       "11               seed              21094                    21094   \n",
       "13            venture              47809                    47809   \n",
       "\n",
       "    raised_amount_usd   name  category_list  country_code  status  \\\n",
       "0                4400   4400           4400          4400    4400   \n",
       "8                1820   1820           1820          1820    1820   \n",
       "11              21094  21094          21094         21094   21094   \n",
       "13              47809  47809          47809         47809   47809   \n",
       "\n",
       "    fraction_of_total_investments  \n",
       "0                        0.049702  \n",
       "8                        0.020558  \n",
       "11                       0.238275  \n",
       "13                       0.540044  "
      ]
     },
     "execution_count": 65,
     "metadata": {},
     "output_type": "execute_result"
    }
   ],
   "source": [
    "data = master_frame.groupby('funding_round_type').count().reset_index()\n",
    "data['fraction_of_total_investments'] = data['funding_round_permalink']/data['funding_round_permalink'].sum()\n",
    "plot_data_count = data[data.funding_round_type.isin(['angel','venture','seed','private_equity'])]\n",
    "plot_data_count"
   ]
  },
  {
   "cell_type": "code",
   "execution_count": 66,
   "metadata": {},
   "outputs": [
    {
     "name": "stderr",
     "output_type": "stream",
     "text": [
      "C:\\Users\\gpatil1\\AppData\\Local\\Continuum\\anaconda3\\lib\\site-packages\\ipykernel_launcher.py:7: SettingWithCopyWarning: \n",
      "A value is trying to be set on a copy of a slice from a DataFrame.\n",
      "Try using .loc[row_indexer,col_indexer] = value instead\n",
      "\n",
      "See the caveats in the documentation: http://pandas.pydata.org/pandas-docs/stable/user_guide/indexing.html#returning-a-view-versus-a-copy\n",
      "  import sys\n",
      "C:\\Users\\gpatil1\\AppData\\Local\\Continuum\\anaconda3\\lib\\site-packages\\ipykernel_launcher.py:8: SettingWithCopyWarning: \n",
      "A value is trying to be set on a copy of a slice from a DataFrame.\n",
      "Try using .loc[row_indexer,col_indexer] = value instead\n",
      "\n",
      "See the caveats in the documentation: http://pandas.pydata.org/pandas-docs/stable/user_guide/indexing.html#returning-a-view-versus-a-copy\n",
      "  \n"
     ]
    },
    {
     "data": {
      "text/html": [
       "<div>\n",
       "<style scoped>\n",
       "    .dataframe tbody tr th:only-of-type {\n",
       "        vertical-align: middle;\n",
       "    }\n",
       "\n",
       "    .dataframe tbody tr th {\n",
       "        vertical-align: top;\n",
       "    }\n",
       "\n",
       "    .dataframe thead th {\n",
       "        text-align: right;\n",
       "    }\n",
       "</style>\n",
       "<table border=\"1\" class=\"dataframe\">\n",
       "  <thead>\n",
       "    <tr style=\"text-align: right;\">\n",
       "      <th></th>\n",
       "      <th>funding_round_type</th>\n",
       "      <th>raised_amount_usd</th>\n",
       "      <th>count</th>\n",
       "      <th>avg_fund_usd</th>\n",
       "    </tr>\n",
       "  </thead>\n",
       "  <tbody>\n",
       "    <tr>\n",
       "      <th>0</th>\n",
       "      <td>angel</td>\n",
       "      <td>4.274925e+09</td>\n",
       "      <td>4400</td>\n",
       "      <td>9.715739e+05</td>\n",
       "    </tr>\n",
       "    <tr>\n",
       "      <th>8</th>\n",
       "      <td>private_equity</td>\n",
       "      <td>1.345680e+11</td>\n",
       "      <td>1820</td>\n",
       "      <td>7.393849e+07</td>\n",
       "    </tr>\n",
       "    <tr>\n",
       "      <th>11</th>\n",
       "      <td>seed</td>\n",
       "      <td>1.577468e+10</td>\n",
       "      <td>21094</td>\n",
       "      <td>7.478279e+05</td>\n",
       "    </tr>\n",
       "    <tr>\n",
       "      <th>13</th>\n",
       "      <td>venture</td>\n",
       "      <td>5.605234e+11</td>\n",
       "      <td>47809</td>\n",
       "      <td>1.172422e+07</td>\n",
       "    </tr>\n",
       "  </tbody>\n",
       "</table>\n",
       "</div>"
      ],
      "text/plain": [
       "   funding_round_type  raised_amount_usd  count  avg_fund_usd\n",
       "0               angel       4.274925e+09   4400  9.715739e+05\n",
       "8      private_equity       1.345680e+11   1820  7.393849e+07\n",
       "11               seed       1.577468e+10  21094  7.478279e+05\n",
       "13            venture       5.605234e+11  47809  1.172422e+07"
      ]
     },
     "execution_count": 66,
     "metadata": {},
     "output_type": "execute_result"
    }
   ],
   "source": [
    "def get_count(x):\n",
    "    return plot_data_count[plot_data_count['funding_round_type']==x[0]]['funding_round_permalink'].values[0]\n",
    "\n",
    "data = master_frame.groupby('funding_round_type').sum().reset_index()\n",
    "# data['fraction'] = data['raised_amount_usd'].sum()\n",
    "plot_data_amount = data[data.funding_round_type.isin(['angel','venture','seed','private_equity'])]\n",
    "plot_data_amount['count'] = plot_data_amount.apply(lambda x:get_count(x),axis=1)\n",
    "plot_data_amount['avg_fund_usd'] = plot_data_amount['raised_amount_usd']/plot_data_amount['count']\n",
    "plot_data_amount"
   ]
  },
  {
   "cell_type": "code",
   "execution_count": 67,
   "metadata": {},
   "outputs": [
    {
     "name": "stderr",
     "output_type": "stream",
     "text": [
      "C:\\Users\\gpatil1\\AppData\\Local\\Continuum\\anaconda3\\lib\\site-packages\\ipykernel_launcher.py:9: UserWarning: Matplotlib is currently using module://ipykernel.pylab.backend_inline, which is a non-GUI backend, so cannot show the figure.\n",
      "  if __name__ == '__main__':\n"
     ]
    },
    {
     "data": {
      "image/png": "[encoded data removed]",
      "text/plain": [
       "<Figure size 1008x432 with 2 Axes>"
      ]
     },
     "metadata": {},
     "output_type": "display_data"
    }
   ],
   "source": [
    "fig, ax =plt.subplots(1,2,figsize=(14,6))\n",
    "\n",
    "plot_1 = sns.barplot(data=plot_data_count,x='funding_round_type',y='fraction_of_total_investments',ax=ax[0])\n",
    "plot_1.set(title=\"Fraction of Total Investments(Globally)\")\n",
    "\n",
    "plot_2 = sns.barplot(data=plot_data_amount,x='funding_round_type',y='avg_fund_usd',ax=ax[1])\n",
    "plot_2.set(title=\"Average Amount of Investment\")\n",
    "\n",
    "fig.show()"
   ]
  },
  {
   "cell_type": "code",
   "execution_count": 68,
   "metadata": {},
   "outputs": [
    {
     "data": {
      "image/png": "[encoded data removed]",
      "text/plain": [
       "<Figure size 432x288 with 1 Axes>"
      ]
     },
     "metadata": {},
     "output_type": "display_data"
    }
   ],
   "source": [
    "fig1, ax1 = plt.subplots()\n",
    "weights = list(plot_data_count['fraction_of_total_investments'])+[1-sum(plot_data_count['fraction_of_total_investments'])]\n",
    "labels = list(plot_data_count['funding_round_type']) +['others']\n",
    "ax1.pie(weights, labels=labels, autopct='%1.1f%%', shadow=True)\n",
    "ax1.axis('equal')\n",
    "plt.show()"
   ]
  },
  {
   "cell_type": "code",
   "execution_count": 69,
   "metadata": {},
   "outputs": [
    {
     "data": {
      "text/plain": [
       "([0.04970178926441352,\n",
       "  0.020558467377552864,\n",
       "  0.238274896078077,\n",
       "  0.5400438279414422,\n",
       "  0.15142101933851437],\n",
       " ['angel', 'private_equity', 'seed', 'venture', 'others'])"
      ]
     },
     "execution_count": 69,
     "metadata": {},
     "output_type": "execute_result"
    }
   ],
   "source": [
    "weights,labels"
   ]
  },
  {
   "cell_type": "markdown",
   "metadata": {},
   "source": [
    "### From above plot, it's very clear that :\n",
    "        1) Most investments are being made into 'venture' type\n",
    "        2) Most total funding is being raised by 'private_equity' segment"
   ]
  },
  {
   "cell_type": "markdown",
   "metadata": {},
   "source": [
    "#### Plot 2"
   ]
  },
  {
   "cell_type": "code",
   "execution_count": 70,
   "metadata": {},
   "outputs": [
    {
     "name": "stdout",
     "output_type": "stream",
     "text": [
      "<class 'pandas.core.frame.DataFrame'>\n",
      "RangeIndex: 9 entries, 0 to 8\n",
      "Data columns (total 3 columns):\n",
      "country_code           9 non-null object\n",
      "total_raised_amount    9 non-null object\n",
      "is_english_speaking    9 non-null bool\n",
      "dtypes: bool(1), object(2)\n",
      "memory usage: 281.0+ bytes\n"
     ]
    }
   ],
   "source": [
    "top9.info()"
   ]
  },
  {
   "cell_type": "code",
   "execution_count": 71,
   "metadata": {},
   "outputs": [],
   "source": [
    "top9.to_excel('submission/top9.xlsx',index=False)"
   ]
  },
  {
   "cell_type": "code",
   "execution_count": 72,
   "metadata": {},
   "outputs": [],
   "source": [
    "top9['total_raised_amount'] = top9['total_raised_amount'].astype('float')"
   ]
  },
  {
   "cell_type": "code",
   "execution_count": 73,
   "metadata": {},
   "outputs": [
    {
     "data": {
      "text/plain": [
       "[Text(0.5, 1.0, ' Total amount of investments in Venture FT - Top 9 Countries')]"
      ]
     },
     "execution_count": 73,
     "metadata": {},
     "output_type": "execute_result"
    },
    {
     "data": {
      "image/png": "[encoded data removed]",
      "text/plain": [
       "<Figure size 1008x432 with 1 Axes>"
      ]
     },
     "metadata": {},
     "output_type": "display_data"
    }
   ],
   "source": [
    "plt.figure(figsize=(14,6))\n",
    "sns.barplot(data=top9,x='country_code',y='total_raised_amount').set(title=' Total amount of investments in Venture FT - Top 9 Countries')"
   ]
  },
  {
   "cell_type": "markdown",
   "metadata": {},
   "source": [
    "### From above plot, it's very clear that :\n",
    "    Top 3 required english speaking countries are:\n",
    "        1) USA\n",
    "        2) GBR\n",
    "        3) IND"
   ]
  },
  {
   "cell_type": "markdown",
   "metadata": {},
   "source": [
    "#### Plot 3"
   ]
  },
  {
   "cell_type": "code",
   "execution_count": 74,
   "metadata": {},
   "outputs": [
    {
     "data": {
      "text/plain": [
       "(                               main_sector  funding_round_permalink\n",
       " 6                                   Others                     2950\n",
       " 7  Social, Finance, Analytics, Advertising                     2714\n",
       " 1               Cleantech / Semiconductors                     2350,\n",
       "                                main_sector  funding_round_permalink\n",
       " 6                                   Others                      147\n",
       " 7  Social, Finance, Analytics, Advertising                      133\n",
       " 1               Cleantech / Semiconductors                      130,\n",
       "                                main_sector  funding_round_permalink\n",
       " 6                                   Others                      110\n",
       " 7  Social, Finance, Analytics, Advertising                       60\n",
       " 5               News, Search and Messaging                       52)"
      ]
     },
     "execution_count": 74,
     "metadata": {},
     "output_type": "execute_result"
    }
   ],
   "source": [
    "usa_data = D1.groupby('main_sector').count()['funding_round_permalink'].reset_index().sort_values('funding_round_permalink',ascending=False).head(3)\n",
    "gbr_data = D2.groupby('main_sector').count()['funding_round_permalink'].reset_index().sort_values('funding_round_permalink',ascending=False).head(3)\n",
    "ind_data = D3.groupby('main_sector').count()['funding_round_permalink'].reset_index().sort_values('funding_round_permalink',ascending=False).head(3)\n",
    "usa_data,gbr_data,ind_data\n",
    "# usa_data"
   ]
  },
  {
   "cell_type": "code",
   "execution_count": 75,
   "metadata": {},
   "outputs": [
    {
     "data": {
      "image/png": "[encoded data removed]",
      "text/plain": [
       "<Figure size 1008x468 with 1 Axes>"
      ]
     },
     "metadata": {},
     "output_type": "display_data"
    }
   ],
   "source": [
    "x_ = ['USA','GBR','IND']\n",
    "\n",
    "x1 = [usa_data.iloc[0,0],gbr_data.iloc[0,0],ind_data.iloc[0,0]]\n",
    "x2 =[usa_data.iloc[1,0],gbr_data.iloc[1,0],ind_data.iloc[1,0]]\n",
    "x3 =[usa_data.iloc[2,0],gbr_data.iloc[2,0],ind_data.iloc[2,0]]\n",
    "\n",
    "y = [usa_data.iloc[0,1],gbr_data.iloc[0,1],ind_data.iloc[0,1]]\n",
    "y2 =[usa_data.iloc[1,1],gbr_data.iloc[1,1],ind_data.iloc[1,1]]\n",
    "y3 =[usa_data.iloc[2,1],gbr_data.iloc[2,1],ind_data.iloc[2,1]]\n",
    "\n",
    "\n",
    "fig = plt.figure(figsize=(14,6.5))\n",
    "ax = fig.add_axes([0,0,1,1])\n",
    "\n",
    "barWidth =0.3\n",
    "r1 = np.arange(len(x_))\n",
    "r2 = [i-(barWidth) for i in r1]\n",
    "r3 = [i+(barWidth)  for i in r1]\n",
    "\n",
    "\n",
    "rects1 = ax.bar(r2, y, width=barWidth, color='b', align='center',label='1st')\n",
    "rects2 = ax.bar(r1, y2, width=barWidth, color='r', align='center',label='2nd')\n",
    "rects3 = ax.bar(r3, y3, width=barWidth, color='g', align='center',label='3rd')\n",
    "\n",
    "# rects1 = ax.barh(r2, y, height=barWidth, color='b', align='center',label='1st')\n",
    "# rects2 = ax.barh(r1, y2, height=barWidth, color='r', align='center',label='2nd')\n",
    "# rects3 = ax.barh(r3, y3, height=barWidth, color='g', align='center',label='3rd')\n",
    "\n",
    "def autolabel(rects,arg):\n",
    "    \"\"\"Attach a text label above each bar in *rects*, displaying its height.\"\"\"\n",
    "    x=[]\n",
    "    if arg==1:\n",
    "        x=x1\n",
    "    elif arg==2:\n",
    "        x=x2\n",
    "    else:\n",
    "        x=x3\n",
    "    \n",
    "    for i,rect in enumerate(rects):\n",
    "        height = rect.get_height()\n",
    "        ax.annotate('{}'.format(x[i]+\", \"+str(height)),\n",
    "                    xy=(rect.get_x() + rect.get_width() / 2, height/2),\n",
    "                    xytext=(0, 3),  # 3 points vertical offset\n",
    "                    textcoords=\"offset points\",\n",
    "                    ha='center', va='bottom',rotation=90,fontsize=11.5)\n",
    "\n",
    "\n",
    "\n",
    "plt.xlabel('Top Target Countries', fontweight='bold')\n",
    "plt.ylabel('Number of Investments', fontweight='bold')\n",
    "\n",
    "plt.xticks(r1, x_,fontweight='bold')\n",
    "# plt.xticks(r2, x)\n",
    "# plt.xticks(r1, x2)\n",
    "# plt.xticks(r3, x3)\n",
    "# Create legend & Show graphic\n",
    "plt.legend()\n",
    "plt.xticks(rotation=0,fontsize=20)\n",
    "plt.yticks(fontsize=20)\n",
    "plt.title('top 3 sectors of the top 3 countries',fontsize=30)\n",
    "\n",
    "autolabel(rects1,1)\n",
    "autolabel(rects2,2)\n",
    "autolabel(rects3,3)\n",
    "\n",
    "plt.show()"
   ]
  },
  {
   "cell_type": "markdown",
   "metadata": {},
   "source": [
    "### From above plot, we can have comparative look at top 3 sectors for each of the top 3 countries"
   ]
  },
  {
   "cell_type": "code",
   "execution_count": null,
   "metadata": {},
   "outputs": [],
   "source": []
  }
 ],
 "metadata": {
  "kernelspec": {
   "display_name": "Python 3",
   "language": "python",
   "name": "python3"
  },
  "language_info": {
   "codemirror_mode": {
    "name": "ipython",
    "version": 3
   },
   "file_extension": ".py",
   "mimetype": "text/x-python",
   "name": "python",
   "nbconvert_exporter": "python",
   "pygments_lexer": "ipython3",
   "version": "3.6.5"
  }
 },
 "nbformat": 4,
 "nbformat_minor": 2
}
